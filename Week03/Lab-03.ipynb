{
  "cells": [
    {
      "cell_type": "markdown",
      "id": "57771d6f",
      "metadata": {
        "id": "57771d6f"
      },
      "source": [
        "# Week 3 Lab"
      ]
    },
    {
      "cell_type": "markdown",
      "id": "ccb647fd",
      "metadata": {
        "id": "ccb647fd"
      },
      "source": [
        "## Questions:\n",
        "- Differences between supervised and unsupervised learning?  \n",
        "- Differences between classification and regression?  \n",
        "- Classification and regression are the only types of supervised learning? "
      ]
    },
    {
      "cell_type": "markdown",
      "id": "03e12e71",
      "metadata": {
        "id": "03e12e71"
      },
      "source": [
        "Differences between supervised and unsupervised learning?\n",
        "\n",
        "Supervised and unsupervised learning are two major categories of machine learning. \n",
        "\n",
        "Supervised Learning: The goal of supervised learning is to learn a mapping function from input variables to output variables based on the labeled training data. This involves having data & labels. So, Incase of identifying different images of food. We may have the data. But, the data would be the images of food and the labels would be the labels of the food.\n",
        "\n",
        "Unsupervised Learning: The goal of unsupervised learning is to discover hidden patterns or groupings in the data. For Example, as you basically only have data and no labels, you kind of pass your data to a machine learning model or a neural network or a deep learning mode."
      ]
    },
    {
      "cell_type": "markdown",
      "source": [
        "Differences between classification and regression?\n",
        "\n",
        "\n",
        "The main difference between these two types of learning lies in the type of output that the model predicts.\n",
        "\n",
        "Regression:\n",
        "\n",
        "\n",
        "*   This is type of supervised learning which actually means take the data, put coulumns, names to the columns, we basically direct the computer in terms of what each field represents and tell it.\n",
        "*   The ability to predict the outcone variable given one or more predictor variables.\n",
        "\n",
        "*   Result is numeric-price, amount, size. etc\n",
        "\n",
        "Classification:\n",
        "\n",
        "\n",
        "*   This is type of supervised learning. You're going you know, You're going to give it something that may be it's never seen before and It's going to assign a percentage as whether it's something or another.\n",
        "\n",
        "\n",
        "\n",
        "\n",
        "\n",
        "\n",
        "\n",
        "\n",
        "\n"
      ],
      "metadata": {
        "id": "jg1apIrgmvCh"
      },
      "id": "jg1apIrgmvCh"
    },
    {
      "cell_type": "markdown",
      "source": [
        "Classification and regression are the only types of supervised learning?\n",
        "\n",
        "\n",
        "No, supervised learning involves more than just classification and regression. Several supervised learning techniques are employed in machine learning, including ordinal regression and ranking."
      ],
      "metadata": {
        "id": "DksN2NOFo7Qc"
      },
      "id": "DksN2NOFo7Qc"
    }
  ],
  "metadata": {
    "kernelspec": {
      "display_name": "Python 3",
      "language": "python",
      "name": "python3"
    },
    "language_info": {
      "codemirror_mode": {
        "name": "ipython",
        "version": 3
      },
      "file_extension": ".py",
      "mimetype": "text/x-python",
      "name": "python",
      "nbconvert_exporter": "python",
      "pygments_lexer": "ipython3",
      "version": "3.8.8"
    },
    "toc": {
      "base_numbering": 1,
      "nav_menu": {},
      "number_sections": true,
      "sideBar": true,
      "skip_h1_title": false,
      "title_cell": "Table of Contents",
      "title_sidebar": "Contents",
      "toc_cell": false,
      "toc_position": {},
      "toc_section_display": true,
      "toc_window_display": false
    },
    "colab": {
      "provenance": []
    }
  },
  "nbformat": 4,
  "nbformat_minor": 5
}