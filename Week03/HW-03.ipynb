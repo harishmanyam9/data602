{
  "cells": [
    {
      "cell_type": "markdown",
      "id": "92665e74",
      "metadata": {
        "id": "92665e74"
      },
      "source": [
        "# Week3 - Homework\n",
        "\n",
        "Write a rule based predictor for a given matrix\n",
        "\n",
        "* Don't use a machine learning model (You can use PCA)"
      ]
    },
    {
      "cell_type": "code",
      "execution_count": 1,
      "id": "71cb00e3",
      "metadata": {
        "id": "71cb00e3",
        "outputId": "95f7c948-8b6c-406c-d94a-0ba729139349",
        "colab": {
          "base_uri": "https://localhost:8080/"
        }
      },
      "outputs": [
        {
          "output_type": "stream",
          "name": "stdout",
          "text": [
            "<class 'pandas.core.frame.DataFrame'>\n",
            "RangeIndex: 150 entries, 0 to 149\n",
            "Data columns (total 5 columns):\n",
            " #   Column        Non-Null Count  Dtype  \n",
            "---  ------        --------------  -----  \n",
            " 0   sepal_length  150 non-null    float64\n",
            " 1   sepal_width   150 non-null    float64\n",
            " 2   petal_length  150 non-null    float64\n",
            " 3   petal_width   150 non-null    float64\n",
            " 4   species       150 non-null    object \n",
            "dtypes: float64(4), object(1)\n",
            "memory usage: 6.0+ KB\n"
          ]
        }
      ],
      "source": [
        "import pandas as pd\n",
        "import numpy as np\n",
        "from matplotlib import pyplot as plt\n",
        "\n",
        "df = pd.read_csv('https://raw.githubusercontent.com/msaricaumbc/DS_data/master/ds602/iris.csv')\n",
        "df.info()"
      ]
    },
    {
      "cell_type": "markdown",
      "source": [
        "From the below function we get to know that the minimum and maximum values of each variety of spieces."
      ],
      "metadata": {
        "id": "BeuloZMPMcqa"
      },
      "id": "BeuloZMPMcqa"
    },
    {
      "cell_type": "code",
      "source": [
        "def species(variety):\n",
        "    s = df[df['species'] == variety]\n",
        "    minimum = s.min()\n",
        "    maximum = s.max()\n",
        "    return minimum, maximum"
      ],
      "metadata": {
        "id": "nWwsy6Iwc7_i"
      },
      "id": "nWwsy6Iwc7_i",
      "execution_count": 2,
      "outputs": []
    },
    {
      "cell_type": "markdown",
      "source": [
        "Here, We got the minimum and maximum of Sepal Length, Sepal Width, Petal Length, Petal Width values of 'Iris- Setosa'.\n",
        "\n",
        "From These we got to know that the Petal Length is in range from 1.0 to 1.9 and petal Width is range from 0.1 to 0.6"
      ],
      "metadata": {
        "id": "ow_g2H4qNFwj"
      },
      "id": "ow_g2H4qNFwj"
    },
    {
      "cell_type": "code",
      "source": [
        "species('Iris-setosa')"
      ],
      "metadata": {
        "colab": {
          "base_uri": "https://localhost:8080/"
        },
        "id": "eKOFPBsjdbun",
        "outputId": "0d326e3b-b002-4b9c-c5a9-fb7714f91c2f"
      },
      "id": "eKOFPBsjdbun",
      "execution_count": 3,
      "outputs": [
        {
          "output_type": "execute_result",
          "data": {
            "text/plain": [
              "(sepal_length            4.3\n",
              " sepal_width             2.3\n",
              " petal_length            1.0\n",
              " petal_width             0.1\n",
              " species         Iris-setosa\n",
              " dtype: object, sepal_length            5.8\n",
              " sepal_width             4.4\n",
              " petal_length            1.9\n",
              " petal_width             0.6\n",
              " species         Iris-setosa\n",
              " dtype: object)"
            ]
          },
          "metadata": {},
          "execution_count": 3
        }
      ]
    },
    {
      "cell_type": "markdown",
      "source": [
        "Here, We got the minimum and maximum of Sepal Length, Sepal Width, Petal Length, Petal Width values of 'Iris-versicolor'.\n",
        "\n",
        "From These we got to know that the Petal Length is in range from 3.0 to 5.1 and petal Width is range from 1.0 to 1.8"
      ],
      "metadata": {
        "id": "RFJXyEyCPaJe"
      },
      "id": "RFJXyEyCPaJe"
    },
    {
      "cell_type": "code",
      "source": [
        "species('Iris-versicolor')"
      ],
      "metadata": {
        "colab": {
          "base_uri": "https://localhost:8080/"
        },
        "id": "m9qFm7aHa8r5",
        "outputId": "06df94d4-47b7-4b19-a019-1ba0cf075e67"
      },
      "id": "m9qFm7aHa8r5",
      "execution_count": 4,
      "outputs": [
        {
          "output_type": "execute_result",
          "data": {
            "text/plain": [
              "(sepal_length                4.9\n",
              " sepal_width                 2.0\n",
              " petal_length                3.0\n",
              " petal_width                 1.0\n",
              " species         Iris-versicolor\n",
              " dtype: object, sepal_length                7.0\n",
              " sepal_width                 3.4\n",
              " petal_length                5.1\n",
              " petal_width                 1.8\n",
              " species         Iris-versicolor\n",
              " dtype: object)"
            ]
          },
          "metadata": {},
          "execution_count": 4
        }
      ]
    },
    {
      "cell_type": "markdown",
      "source": [
        "Here, We got the minimum and maximum of Sepal Length, Sepal Width, Petal Length, Petal Width values of 'Iris-virginica'.\n",
        "\n",
        "From These we got to know that the Petal Length is in range from 4.5 to 6.9 and petal Width is range from 1.4 to 2.5"
      ],
      "metadata": {
        "id": "szE1tM0IPrjn"
      },
      "id": "szE1tM0IPrjn"
    },
    {
      "cell_type": "code",
      "source": [
        "species('Iris-virginica')\n"
      ],
      "metadata": {
        "colab": {
          "base_uri": "https://localhost:8080/"
        },
        "id": "AVIzJZdjYxKS",
        "outputId": "615dfdb6-d989-47c5-c7c6-0d86095ae44e"
      },
      "id": "AVIzJZdjYxKS",
      "execution_count": 5,
      "outputs": [
        {
          "output_type": "execute_result",
          "data": {
            "text/plain": [
              "(sepal_length               4.9\n",
              " sepal_width                2.2\n",
              " petal_length               4.5\n",
              " petal_width                1.4\n",
              " species         Iris-virginica\n",
              " dtype: object, sepal_length               7.9\n",
              " sepal_width                3.8\n",
              " petal_length               6.9\n",
              " petal_width                2.5\n",
              " species         Iris-virginica\n",
              " dtype: object)"
            ]
          },
          "metadata": {},
          "execution_count": 5
        }
      ]
    },
    {
      "cell_type": "code",
      "execution_count": 6,
      "id": "03ad628a",
      "metadata": {
        "id": "03ad628a",
        "outputId": "34952e99-8e33-40ca-9a71-91184e4970a7",
        "colab": {
          "base_uri": "https://localhost:8080/"
        }
      },
      "outputs": [
        {
          "output_type": "execute_result",
          "data": {
            "text/plain": [
              "Iris-setosa        50\n",
              "Iris-versicolor    50\n",
              "Iris-virginica     50\n",
              "Name: species, dtype: int64"
            ]
          },
          "metadata": {},
          "execution_count": 6
        }
      ],
      "source": [
        "df.species.value_counts()"
      ]
    },
    {
      "cell_type": "code",
      "source": [
        "def predict_one(sepal_length, sepal_width, petal_length, petal_width):\n",
        "    if petal_length <=1.9 and petal_length >= 1.0 and petal_width <=0.6 and petal_width >=0.1:\n",
        "        return 'Iris-setosa'\n",
        "    elif petal_length <=5.1 and petal_length >= 3.0 and petal_width <=1.8 and petal_width >=1.0:\n",
        "        return 'Iris-versicolor'\n",
        "    elif petal_length <=6.9 and petal_length >= 4.5 and petal_width <=2.5 and petal_width >=1.4:\n",
        "        return 'Iris-virginica'"
      ],
      "metadata": {
        "id": "ftbNrcbpYgMX"
      },
      "id": "ftbNrcbpYgMX",
      "execution_count": 7,
      "outputs": []
    },
    {
      "cell_type": "code",
      "execution_count": 8,
      "id": "3889bd65",
      "metadata": {
        "id": "3889bd65",
        "outputId": "20c6b5b6-f382-4e6e-d9b1-0235c0af2302",
        "colab": {
          "base_uri": "https://localhost:8080/"
        }
      },
      "outputs": [
        {
          "output_type": "stream",
          "name": "stdout",
          "text": [
            "Accuracy: 0.9466666666666667\n"
          ]
        }
      ],
      "source": [
        "predictions = pd.Series([ predict_one(*line) for line in df.iloc[:, :4].to_numpy()])\n",
        "accuracy = sum(df.species == predictions) / len(df)\n",
        "print(f\"Accuracy: {accuracy}\")"
      ]
    }
  ],
  "metadata": {
    "kernelspec": {
      "display_name": "Python 3",
      "language": "python",
      "name": "python3"
    },
    "language_info": {
      "codemirror_mode": {
        "name": "ipython",
        "version": 3
      },
      "file_extension": ".py",
      "mimetype": "text/x-python",
      "name": "python",
      "nbconvert_exporter": "python",
      "pygments_lexer": "ipython3",
      "version": "3.8.8"
    },
    "toc": {
      "base_numbering": 1,
      "nav_menu": {},
      "number_sections": true,
      "sideBar": true,
      "skip_h1_title": false,
      "title_cell": "Table of Contents",
      "title_sidebar": "Contents",
      "toc_cell": false,
      "toc_position": {},
      "toc_section_display": true,
      "toc_window_display": false
    },
    "colab": {
      "provenance": []
    }
  },
  "nbformat": 4,
  "nbformat_minor": 5
}