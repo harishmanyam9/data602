{
  "cells": [
    {
      "cell_type": "markdown",
      "metadata": {
        "id": "nimzjWg8znxc"
      },
      "source": [
        "# Assignment Week 2 \n",
        "\n",
        "* Answer each question completely. \n",
        "* Include your code and summarize what you see in a brief narrative.\n",
        "\n",
        "__Charting:__\n",
        "Remember to make your charts as self-sufficient as possible (i.e., labels, titles, lack of clutter)  "
      ]
    },
    {
      "cell_type": "code",
      "execution_count": 42,
      "metadata": {
        "id": "SWKwZrJyznxg",
        "colab": {
          "base_uri": "https://localhost:8080/"
        },
        "outputId": "929322e0-d8bf-4df8-d197-9ede6f8eac82"
      },
      "outputs": [
        {
          "output_type": "stream",
          "name": "stdout",
          "text": [
            "<class 'pandas.core.frame.DataFrame'>\n",
            "RangeIndex: 558837 entries, 0 to 558836\n",
            "Data columns (total 16 columns):\n",
            " #   Column        Non-Null Count   Dtype  \n",
            "---  ------        --------------   -----  \n",
            " 0   year          558837 non-null  int64  \n",
            " 1   make          548536 non-null  object \n",
            " 2   model         548438 non-null  object \n",
            " 3   trim          548186 non-null  object \n",
            " 4   body          545642 non-null  object \n",
            " 5   transmission  493484 non-null  object \n",
            " 6   vin           558833 non-null  object \n",
            " 7   state         558837 non-null  object \n",
            " 8   condition     547043 non-null  object \n",
            " 9   odometer      558743 non-null  float64\n",
            " 10  color         558088 non-null  object \n",
            " 11  interior      558088 non-null  object \n",
            " 12  seller        558837 non-null  object \n",
            " 13  mmr           558837 non-null  object \n",
            " 14  sellingprice  558837 non-null  int64  \n",
            " 15  saledate      558837 non-null  object \n",
            "dtypes: float64(1), int64(2), object(13)\n",
            "memory usage: 68.2+ MB\n"
          ]
        }
      ],
      "source": [
        "import pandas as pd\n",
        "import numpy as np\n",
        "import matplotlib.pyplot as plt\n",
        "%matplotlib inline\n",
        "\n",
        "df = pd.read_csv('https://raw.githubusercontent.com/msaricaumbc/DS_data/master/ds602/car_prices/car_prices.csv', low_memory=False)\n",
        "\n",
        "df.info()"
      ]
    },
    {
      "cell_type": "markdown",
      "metadata": {
        "id": "Uw-VSsHaznxh"
      },
      "source": [
        "# Data Description:\n",
        "- year: year the car was built (e.g., the model year)  \n",
        "- make: the manufacturer. \n",
        "- model: specific model of the car  \n",
        "- trim: subtype of the car model. \n",
        "- body: body style of the car. \n",
        "- transmission: type of transmission  \n",
        "- state: state car is registered. \n",
        "- condition: numerical rating of the condition, higher is better.  \n",
        "- odometer: number of miles the car has been driven.   \n",
        "- color: color of the car.  \n",
        "- interior: type of interior (e.g., seats). \n",
        "- mmr: estimated wholesale price of the car if auctioned.  \n",
        "- sellingprice: actual sales price of the car."
      ]
    },
    {
      "cell_type": "markdown",
      "metadata": {
        "id": "lc7_sfRyznxi"
      },
      "source": [
        "## Question 1. Determine the number of missing values in each column."
      ]
    },
    {
      "cell_type": "code",
      "execution_count": 43,
      "metadata": {
        "id": "wddHawg2znxi",
        "colab": {
          "base_uri": "https://localhost:8080/"
        },
        "outputId": "edc3feca-6f1c-4879-a0a1-92163f1d6389"
      },
      "outputs": [
        {
          "output_type": "stream",
          "name": "stdout",
          "text": [
            "year                0\n",
            "make            10301\n",
            "model           10399\n",
            "trim            10651\n",
            "body            13195\n",
            "transmission    65353\n",
            "vin                 4\n",
            "state               0\n",
            "condition       11794\n",
            "odometer           94\n",
            "color             749\n",
            "interior          749\n",
            "seller              0\n",
            "mmr                 0\n",
            "sellingprice        0\n",
            "saledate            0\n",
            "dtype: int64\n"
          ]
        }
      ],
      "source": [
        "missing_values = df.isna().sum()\n",
        "print(missing_values)"
      ]
    },
    {
      "cell_type": "code",
      "source": [
        "df"
      ],
      "metadata": {
        "id": "acBGGQH_0E95"
      },
      "execution_count": null,
      "outputs": []
    },
    {
      "cell_type": "markdown",
      "metadata": {
        "id": "fLlv8nf4znxi"
      },
      "source": [
        "From this we got to know that the 'year' is present for every row. And, 'transmission' has the highest number of missing values. So, for every vehicle there is a particular year, state, seller, mmr, sellingprice, saledate."
      ]
    },
    {
      "cell_type": "markdown",
      "metadata": {
        "id": "QCl7v6WSznxj"
      },
      "source": [
        "## Question 2. Check the data types.\n",
        "- Which columns are coded to the incorrect type? If any, correct them."
      ]
    },
    {
      "cell_type": "code",
      "execution_count": 45,
      "metadata": {
        "id": "krM2Ccnrznxj"
      },
      "outputs": [],
      "source": [
        "df['condition'] = df['condition'].astype(str)\n",
        "\n",
        "df['saledate'] = pd.to_datetime(df.saledate, errors='coerce')\n",
        "\n",
        "#Reference for converting datetime: https://stackoverflow.com/questions/36692861/avoiding-error-from-pd-to-datetime-in-pandas\n",
        "\n",
        "df['mmr'] = pd.to_numeric(df.mmr, errors='coerce')\n",
        "\n",
        "#Reference for converting numeric: https://stackoverflow.com/questions/73764054/pandas-to-numericerrors-coerce-does-not-convert-invalid-value-to-nan"
      ]
    },
    {
      "cell_type": "markdown",
      "metadata": {
        "id": "QUpWTumcznxj"
      },
      "source": [
        "Condition is actually an object. Firstly, I tried to change it as floating but, there are some string values so, that's why I converted it into a string. 'salesdata', I converted into datetime. as, we have to use it for future references."
      ]
    },
    {
      "cell_type": "markdown",
      "metadata": {
        "id": "Mc7snRZZznxj"
      },
      "source": [
        "## Question 3. Analyze the `make` column.\n",
        "- Comment on what you observe.  \n",
        "- Clean the column to reduce the number of unique values to as few as reasonably possible (no hard coding). \n",
        "\n",
        "Hint: What do you notice if you run this:\n",
        "```python\n",
        "makes = df.make.unique().tolist()\n",
        "makes = [str(x).lower() for x in makes]\n",
        "sorted(makes)\n",
        "```"
      ]
    },
    {
      "cell_type": "code",
      "source": [
        "makes = df.make.unique().tolist()\n",
        "makes = [str(x).lower() for x in makes]\n",
        "make = set(makes)\n",
        "make = list(make)\n",
        "make\n",
        "\n",
        "#Reference for the Set: https://www.geeksforgeeks.org/python-set-method/"
      ],
      "metadata": {
        "colab": {
          "base_uri": "https://localhost:8080/"
        },
        "id": "2G0dNEykTzhI",
        "outputId": "3e52642e-a0a9-490f-cb21-29d537a48f0d"
      },
      "execution_count": 72,
      "outputs": [
        {
          "output_type": "execute_result",
          "data": {
            "text/plain": [
              "['dodge tk',\n",
              " 'porsche',\n",
              " 'dot',\n",
              " 'toyota',\n",
              " 'ford truck',\n",
              " 'buick',\n",
              " 'jaguar',\n",
              " 'gmc',\n",
              " 'lamborghini',\n",
              " 'infiniti',\n",
              " 'gmc truck',\n",
              " 'chevrolet',\n",
              " 'lincoln',\n",
              " 'mini',\n",
              " 'subaru',\n",
              " 'hummer',\n",
              " 'lexus',\n",
              " 'mercedes-b',\n",
              " 'lotus',\n",
              " 'cadillac',\n",
              " 'ram',\n",
              " 'ford tk',\n",
              " 'volvo',\n",
              " 'mercedes',\n",
              " 'scion',\n",
              " 'mercury',\n",
              " 'nan',\n",
              " 'bmw',\n",
              " 'nissan',\n",
              " 'ferrari',\n",
              " 'saturn',\n",
              " 'isuzu',\n",
              " 'aston martin',\n",
              " 'tesla',\n",
              " 'vw',\n",
              " 'ford',\n",
              " 'land rover',\n",
              " 'saab',\n",
              " 'audi',\n",
              " 'acura',\n",
              " 'daewoo',\n",
              " 'mazda',\n",
              " 'fisker',\n",
              " 'dodge',\n",
              " 'fiat',\n",
              " 'mazda tk',\n",
              " 'chrysler',\n",
              " 'suzuki',\n",
              " 'chev truck',\n",
              " 'geo',\n",
              " 'volkswagen',\n",
              " 'smart',\n",
              " 'kia',\n",
              " 'honda',\n",
              " 'oldsmobile',\n",
              " 'airstream',\n",
              " 'hyundai tk',\n",
              " 'pontiac',\n",
              " 'rolls-royce',\n",
              " 'bentley',\n",
              " 'plymouth',\n",
              " 'jeep',\n",
              " 'landrover',\n",
              " 'maserati',\n",
              " 'mercedes-benz',\n",
              " 'hyundai',\n",
              " 'mitsubishi']"
            ]
          },
          "metadata": {},
          "execution_count": 72
        }
      ]
    },
    {
      "cell_type": "markdown",
      "metadata": {
        "id": "lZY5eRhgznxk"
      },
      "source": [
        "After reducing the number of makers. Now, we can easily understand that which company making more sales for each year. Like, we will get lot of more information after reducing the number of columns."
      ]
    },
    {
      "cell_type": "markdown",
      "metadata": {
        "id": "1h21pqZbznxk"
      },
      "source": [
        "## Question 4. Analyze the relationship between the wholeprice `mmr` and the `salesprice`.\n",
        "- What is the overall correlation?  \n",
        "- What happens to the correlation as you increase the maximum selling price window (e.g., 0-10000, 0-20000,...)?\n",
        "- Create a scatter plot with the relationship.  \n",
        "- Create a graph that shows how the correlation changes."
      ]
    },
    {
      "cell_type": "code",
      "execution_count": 98,
      "metadata": {
        "id": "3I4uVbBmznxk",
        "colab": {
          "base_uri": "https://localhost:8080/"
        },
        "outputId": "7977b4a9-20d3-444e-93f4-b641b3bc9e58"
      },
      "outputs": [
        {
          "output_type": "stream",
          "name": "stdout",
          "text": [
            "Overall correlation b/w MMR and Selling Price is 0.9836337168977242\n"
          ]
        }
      ],
      "source": [
        "correlation = df.corr().loc['mmr', 'sellingprice']\n",
        "print('Overall correlation b/w MMR and Selling Price is', correlation)"
      ]
    },
    {
      "cell_type": "code",
      "source": [
        "price_ranges = [(0, 10000), (0, 20000), (0, 30000), (0, 40000), (0, 50000), (0, 60000), (0, 70000), (0, 80000), (0, 90000), (0, 100000), (0, 110000), (0, 120000), (0, 130000), (0, 140000), (0, 150000), (0, 160000), (0, 170000), (0, 180000), (0, 190000), (0, 200000), (0, 210000), (0, 220000), (0, 230000)]\n",
        "\n",
        "X = []\n",
        "Y = []\n",
        "print('correlation for selling price window')\n",
        "print('\\n')\n",
        "for price_range in price_ranges:\n",
        "    start, end = price_range\n",
        "    group_df = df[df[\"sellingprice\"].between(start, end, inclusive = 'both')]\n",
        "    corr = group_df['mmr'].corr(group_df['sellingprice'])\n",
        "    X.append(end)\n",
        "    Y.append(corr)\n",
        "    print(f'{start} - {end} is {corr}')\n",
        "\n",
        "\n",
        "\n",
        "correlation_dict = {}\n",
        "for price_range, corr in correlation_dict.items():\n",
        "    start, end = price_range.left, price_range.right\n",
        "    X.append(f'{start} - {end}')\n",
        "    Y.append(corr)\n"
      ],
      "metadata": {
        "colab": {
          "base_uri": "https://localhost:8080/"
        },
        "id": "XKoeH9jdOFft",
        "outputId": "325d80bb-56b0-4767-9375-c1abbbc98c50"
      },
      "execution_count": 99,
      "outputs": [
        {
          "output_type": "stream",
          "name": "stdout",
          "text": [
            "correlation for selling price window\n",
            "\n",
            "\n",
            "0 - 10000 is 0.8743542721249598\n",
            "0 - 20000 is 0.9584428323123231\n",
            "0 - 30000 is 0.9744203460442981\n",
            "0 - 40000 is 0.9791682459086493\n",
            "0 - 50000 is 0.9812713466602431\n",
            "0 - 60000 is 0.9822401960311057\n",
            "0 - 70000 is 0.982708264353825\n",
            "0 - 80000 is 0.983186257681986\n",
            "0 - 90000 is 0.9834269274590383\n",
            "0 - 100000 is 0.9835761128330059\n",
            "0 - 110000 is 0.9835897120182319\n",
            "0 - 120000 is 0.9836722973053684\n",
            "0 - 130000 is 0.9837452115182911\n",
            "0 - 140000 is 0.9838139061890904\n",
            "0 - 150000 is 0.9838873814578466\n",
            "0 - 160000 is 0.9839572313793203\n",
            "0 - 170000 is 0.9840077311787884\n",
            "0 - 180000 is 0.9840226043763775\n",
            "0 - 190000 is 0.9840312414363551\n",
            "0 - 200000 is 0.9840312414363551\n",
            "0 - 210000 is 0.9840312414363551\n",
            "0 - 220000 is 0.9840312414363551\n",
            "0 - 230000 is 0.9836337168977266\n"
          ]
        }
      ]
    },
    {
      "cell_type": "code",
      "source": [
        "import matplotlib.pyplot as plt\n",
        "plt.figure(figsize=(20, 10))\n",
        "plt.scatter(df['mmr'], df['sellingprice'])\n",
        "plt.xlabel('MMR')\n",
        "plt.ylabel('Selling Price')\n",
        "plt.title('Relationship between MMR and Selling Price')\n",
        "plt.show()"
      ],
      "metadata": {
        "colab": {
          "base_uri": "https://localhost:8080/",
          "height": 621
        },
        "id": "_kTGuN1FMx5a",
        "outputId": "ea1b1ce9-0354-41a0-a387-80c2d96f0d53"
      },
      "execution_count": 104,
      "outputs": [
        {
          "output_type": "display_data",
          "data": {
            "text/plain": [
              "<Figure size 1440x720 with 1 Axes>"
            ],
            "image/png": "[encoded data removed]"
          },
          "metadata": {
            "needs_background": "light"
          }
        }
      ]
    },
    {
      "cell_type": "code",
      "source": [
        "\n",
        "import matplotlib.pyplot as plt\n",
        "plt.figure(figsize=(20, 10))\n",
        "plt.plot(X, Y)\n",
        "plt.xlabel(\"Price Range\")\n",
        "plt.ylabel(\"Correlation\")\n",
        "plt.xticks(np.arange(0, 230000, 10000))\n",
        "plt.title(\"Correlation between MMR and Selling Price\")\n",
        "plt.show()"
      ],
      "metadata": {
        "colab": {
          "base_uri": "https://localhost:8080/",
          "height": 621
        },
        "id": "f7qd61qSM4FD",
        "outputId": "03e5a5a5-3b5e-4def-b00e-001f5c6492cd"
      },
      "execution_count": 103,
      "outputs": [
        {
          "output_type": "display_data",
          "data": {
            "text/plain": [
              "<Figure size 1440x720 with 1 Axes>"
            ],
            "image/png": "[encoded data removed]"
          },
          "metadata": {
            "needs_background": "light"
          }
        }
      ]
    },
    {
      "cell_type": "markdown",
      "metadata": {
        "id": "jsj7nyZtznxk"
      },
      "source": [
        "\n",
        "\n",
        "*   A correlation coefficient of 0.9836337168977242 is close to 1, which suggests that there is a strong positive linear relationship between MMR and Selling Price. This means that as the Whole Price increases, the Selling Price also tends to increase.\n",
        "*   As we can observe that the correlation factor for salesprice windows is gradually increasing. But, in '0-230000' is slightly dropped.\n",
        "\n"
      ]
    },
    {
      "cell_type": "markdown",
      "metadata": {
        "id": "KeDO5NTEznxl"
      },
      "source": [
        "## Question 5. How does the distribution of `salesprice` vary by make for cars made between 2010-2015?\n",
        "- Use the 10 most common makes (your cleaned version of this column).  \n",
        "- Create a graph that answers this question."
      ]
    },
    {
      "cell_type": "code",
      "execution_count": 84,
      "metadata": {
        "id": "779Xjm2Wznxl",
        "colab": {
          "base_uri": "https://localhost:8080/"
        },
        "outputId": "184ac358-1aba-41f9-ff88-c1c8d9a9c343"
      },
      "outputs": [
        {
          "output_type": "execute_result",
          "data": {
            "text/plain": [
              "ford         93997\n",
              "chevrolet    60587\n",
              "nissan       54017\n",
              "toyota       39966\n",
              "dodge        30955\n",
              "honda        27351\n",
              "hyundai      21836\n",
              "bmw          20793\n",
              "kia          18084\n",
              "chrysler     17485\n",
              "Name: make, dtype: int64"
            ]
          },
          "metadata": {},
          "execution_count": 84
        }
      ],
      "source": [
        "#Finding the most common makers\n",
        "\n",
        "df.make = df.make.str.lower()\n",
        "maker = df['make'].value_counts().head(10)\n",
        "maker"
      ]
    },
    {
      "cell_type": "markdown",
      "metadata": {
        "id": "TI0AL7O3znxl"
      },
      "source": [
        "Sample narrative description."
      ]
    },
    {
      "cell_type": "code",
      "execution_count": 85,
      "metadata": {
        "id": "h9tWRh0jznxl"
      },
      "outputs": [],
      "source": [
        "#Just giving the most common car makers to common list\n",
        "\n",
        "common = ['ford','chevrolet','nissan','toyota','dodge','honda','hyundai','bmw','kia','chrysler']"
      ]
    },
    {
      "cell_type": "code",
      "source": [
        "df_1 = df['make'].isin(common)\n",
        "df_2 = df['year']>=2010\n",
        "df_3 = df['year']>=2015\n",
        "\n",
        "final_df = df[(df_1) & ((df_2) &(df_3))]\n",
        "\n",
        "# Just finding 10 most common make for cars made between 2010-2015"
      ],
      "metadata": {
        "id": "bpVXEckgcTFc"
      },
      "execution_count": 105,
      "outputs": []
    },
    {
      "cell_type": "code",
      "source": [
        "final_df"
      ],
      "metadata": {
        "colab": {
          "base_uri": "https://localhost:8080/",
          "height": 704
        },
        "id": "nGbrfiu7c57-",
        "outputId": "1aeb671a-3302-4910-c909-c9b56c8a19c7"
      },
      "execution_count": 106,
      "outputs": [
        {
          "output_type": "execute_result",
          "data": {
            "text/plain": [
              "        year    make    model    trim   body transmission                vin  \\\n",
              "0       2015     kia  Sorento      LX    SUV    automatic  5xyktca69fg566472   \n",
              "1       2015     kia  Sorento      LX    SUV    automatic  5xyktca69fg561319   \n",
              "5       2015  nissan   Altima   2.5 S  Sedan    automatic  1n4al3ap1fn326013   \n",
              "11      2015     kia   Optima      LX  Sedan    automatic  5xxgm4a73fg353538   \n",
              "12      2015    ford   Fusion      SE  Sedan    automatic  3fa6p0hdxfr145753   \n",
              "...      ...     ...      ...     ...    ...          ...                ...   \n",
              "558728  2015    ford   Fusion      SE  sedan          NaN  3fa6p0h7xfr132222   \n",
              "558778  2015  nissan   Altima   2.5 S  sedan          NaN  1n4al3ap2fn332581   \n",
              "558787  2015  nissan   Altima   2.5 S  sedan          NaN  1n4al3ap3fn379506   \n",
              "558832  2015     kia     K900  Luxury  Sedan          NaN  knalw4d4xf6019304   \n",
              "558835  2015  nissan   Altima   2.5 S  sedan    automatic  1n4al3ap0fc216050   \n",
              "\n",
              "       state condition  odometer   color interior  \\\n",
              "0         ca         5   16639.0   white    black   \n",
              "1         ca         5    9393.0   white    beige   \n",
              "5         ca         1    5554.0    gray    black   \n",
              "11        ca       4.8    2034.0     red      tan   \n",
              "12        ca         2    5559.0   white    beige   \n",
              "...      ...       ...       ...     ...      ...   \n",
              "558728    pa       4.1    1083.0   black    black   \n",
              "558778    tx         1       1.0     red     gray   \n",
              "558787    tn       4.1    9319.0  silver        —   \n",
              "558832    in       4.5   18255.0  silver    black   \n",
              "558835    ga       3.8   16658.0   white    black   \n",
              "\n",
              "                                                   seller      mmr  \\\n",
              "0                                 kia motors america, inc  20500.0   \n",
              "1                                 kia motors america, inc  20800.0   \n",
              "5       enterprise vehicle exchange / tra / rental / t...  15350.0   \n",
              "11                                     kia motors finance  15150.0   \n",
              "12      enterprise vehicle exchange / tra / rental / t...  15350.0   \n",
              "...                                                   ...      ...   \n",
              "558728                                best auto wholesale  17650.0   \n",
              "558778                                          hertz/tra  16000.0   \n",
              "558787               enterprise vehicle exchange/franklin  15500.0   \n",
              "558832                                   avis corporation  35300.0   \n",
              "558835  enterprise vehicle exchange / tra / rental / t...  15100.0   \n",
              "\n",
              "        sellingprice                   saledate  \n",
              "0              21500  2014-12-16 12:30:00+08:00  \n",
              "1              21500  2014-12-16 12:30:00+08:00  \n",
              "5              10900  2014-12-30 12:00:00+08:00  \n",
              "11             17700  2014-12-16 12:00:00+08:00  \n",
              "12             12000  2015-01-13 12:00:00+08:00  \n",
              "...              ...                        ...  \n",
              "558728         16500  2015-06-19 02:15:00+07:00  \n",
              "558778          4000  2015-06-25 07:10:00+07:00  \n",
              "558787         10000  2015-07-02 06:45:00+07:00  \n",
              "558832         33000  2015-07-09 07:00:00+07:00  \n",
              "558835         11100  2015-07-09 06:45:00+07:00  \n",
              "\n",
              "[6746 rows x 16 columns]"
            ],
            "text/html": [
              "\n",
              "  <div id=\"df-fbd11215-d677-4cf2-ad8a-ed8006d2ecfd\">\n",
              "    <div class=\"colab-df-container\">\n",
              "      <div>\n",
              "<style scoped>\n",
              "    .dataframe tbody tr th:only-of-type {\n",
              "        vertical-align: middle;\n",
              "    }\n",
              "\n",
              "    .dataframe tbody tr th {\n",
              "        vertical-align: top;\n",
              "    }\n",
              "\n",
              "    .dataframe thead th {\n",
              "        text-align: right;\n",
              "    }\n",
              "</style>\n",
              "<table border=\"1\" class=\"dataframe\">\n",
              "  <thead>\n",
              "    <tr style=\"text-align: right;\">\n",
              "      <th></th>\n",
              "      <th>year</th>\n",
              "      <th>make</th>\n",
              "      <th>model</th>\n",
              "      <th>trim</th>\n",
              "      <th>body</th>\n",
              "      <th>transmission</th>\n",
              "      <th>vin</th>\n",
              "      <th>state</th>\n",
              "      <th>condition</th>\n",
              "      <th>odometer</th>\n",
              "      <th>color</th>\n",
              "      <th>interior</th>\n",
              "      <th>seller</th>\n",
              "      <th>mmr</th>\n",
              "      <th>sellingprice</th>\n",
              "      <th>saledate</th>\n",
              "    </tr>\n",
              "  </thead>\n",
              "  <tbody>\n",
              "    <tr>\n",
              "      <th>0</th>\n",
              "      <td>2015</td>\n",
              "      <td>kia</td>\n",
              "      <td>Sorento</td>\n",
              "      <td>LX</td>\n",
              "      <td>SUV</td>\n",
              "      <td>automatic</td>\n",
              "      <td>5xyktca69fg566472</td>\n",
              "      <td>ca</td>\n",
              "      <td>5</td>\n",
              "      <td>16639.0</td>\n",
              "      <td>white</td>\n",
              "      <td>black</td>\n",
              "      <td>kia motors america, inc</td>\n",
              "      <td>20500.0</td>\n",
              "      <td>21500</td>\n",
              "      <td>2014-12-16 12:30:00+08:00</td>\n",
              "    </tr>\n",
              "    <tr>\n",
              "      <th>1</th>\n",
              "      <td>2015</td>\n",
              "      <td>kia</td>\n",
              "      <td>Sorento</td>\n",
              "      <td>LX</td>\n",
              "      <td>SUV</td>\n",
              "      <td>automatic</td>\n",
              "      <td>5xyktca69fg561319</td>\n",
              "      <td>ca</td>\n",
              "      <td>5</td>\n",
              "      <td>9393.0</td>\n",
              "      <td>white</td>\n",
              "      <td>beige</td>\n",
              "      <td>kia motors america, inc</td>\n",
              "      <td>20800.0</td>\n",
              "      <td>21500</td>\n",
              "      <td>2014-12-16 12:30:00+08:00</td>\n",
              "    </tr>\n",
              "    <tr>\n",
              "      <th>5</th>\n",
              "      <td>2015</td>\n",
              "      <td>nissan</td>\n",
              "      <td>Altima</td>\n",
              "      <td>2.5 S</td>\n",
              "      <td>Sedan</td>\n",
              "      <td>automatic</td>\n",
              "      <td>1n4al3ap1fn326013</td>\n",
              "      <td>ca</td>\n",
              "      <td>1</td>\n",
              "      <td>5554.0</td>\n",
              "      <td>gray</td>\n",
              "      <td>black</td>\n",
              "      <td>enterprise vehicle exchange / tra / rental / t...</td>\n",
              "      <td>15350.0</td>\n",
              "      <td>10900</td>\n",
              "      <td>2014-12-30 12:00:00+08:00</td>\n",
              "    </tr>\n",
              "    <tr>\n",
              "      <th>11</th>\n",
              "      <td>2015</td>\n",
              "      <td>kia</td>\n",
              "      <td>Optima</td>\n",
              "      <td>LX</td>\n",
              "      <td>Sedan</td>\n",
              "      <td>automatic</td>\n",
              "      <td>5xxgm4a73fg353538</td>\n",
              "      <td>ca</td>\n",
              "      <td>4.8</td>\n",
              "      <td>2034.0</td>\n",
              "      <td>red</td>\n",
              "      <td>tan</td>\n",
              "      <td>kia motors finance</td>\n",
              "      <td>15150.0</td>\n",
              "      <td>17700</td>\n",
              "      <td>2014-12-16 12:00:00+08:00</td>\n",
              "    </tr>\n",
              "    <tr>\n",
              "      <th>12</th>\n",
              "      <td>2015</td>\n",
              "      <td>ford</td>\n",
              "      <td>Fusion</td>\n",
              "      <td>SE</td>\n",
              "      <td>Sedan</td>\n",
              "      <td>automatic</td>\n",
              "      <td>3fa6p0hdxfr145753</td>\n",
              "      <td>ca</td>\n",
              "      <td>2</td>\n",
              "      <td>5559.0</td>\n",
              "      <td>white</td>\n",
              "      <td>beige</td>\n",
              "      <td>enterprise vehicle exchange / tra / rental / t...</td>\n",
              "      <td>15350.0</td>\n",
              "      <td>12000</td>\n",
              "      <td>2015-01-13 12:00:00+08:00</td>\n",
              "    </tr>\n",
              "    <tr>\n",
              "      <th>...</th>\n",
              "      <td>...</td>\n",
              "      <td>...</td>\n",
              "      <td>...</td>\n",
              "      <td>...</td>\n",
              "      <td>...</td>\n",
              "      <td>...</td>\n",
              "      <td>...</td>\n",
              "      <td>...</td>\n",
              "      <td>...</td>\n",
              "      <td>...</td>\n",
              "      <td>...</td>\n",
              "      <td>...</td>\n",
              "      <td>...</td>\n",
              "      <td>...</td>\n",
              "      <td>...</td>\n",
              "      <td>...</td>\n",
              "    </tr>\n",
              "    <tr>\n",
              "      <th>558728</th>\n",
              "      <td>2015</td>\n",
              "      <td>ford</td>\n",
              "      <td>Fusion</td>\n",
              "      <td>SE</td>\n",
              "      <td>sedan</td>\n",
              "      <td>NaN</td>\n",
              "      <td>3fa6p0h7xfr132222</td>\n",
              "      <td>pa</td>\n",
              "      <td>4.1</td>\n",
              "      <td>1083.0</td>\n",
              "      <td>black</td>\n",
              "      <td>black</td>\n",
              "      <td>best auto wholesale</td>\n",
              "      <td>17650.0</td>\n",
              "      <td>16500</td>\n",
              "      <td>2015-06-19 02:15:00+07:00</td>\n",
              "    </tr>\n",
              "    <tr>\n",
              "      <th>558778</th>\n",
              "      <td>2015</td>\n",
              "      <td>nissan</td>\n",
              "      <td>Altima</td>\n",
              "      <td>2.5 S</td>\n",
              "      <td>sedan</td>\n",
              "      <td>NaN</td>\n",
              "      <td>1n4al3ap2fn332581</td>\n",
              "      <td>tx</td>\n",
              "      <td>1</td>\n",
              "      <td>1.0</td>\n",
              "      <td>red</td>\n",
              "      <td>gray</td>\n",
              "      <td>hertz/tra</td>\n",
              "      <td>16000.0</td>\n",
              "      <td>4000</td>\n",
              "      <td>2015-06-25 07:10:00+07:00</td>\n",
              "    </tr>\n",
              "    <tr>\n",
              "      <th>558787</th>\n",
              "      <td>2015</td>\n",
              "      <td>nissan</td>\n",
              "      <td>Altima</td>\n",
              "      <td>2.5 S</td>\n",
              "      <td>sedan</td>\n",
              "      <td>NaN</td>\n",
              "      <td>1n4al3ap3fn379506</td>\n",
              "      <td>tn</td>\n",
              "      <td>4.1</td>\n",
              "      <td>9319.0</td>\n",
              "      <td>silver</td>\n",
              "      <td>—</td>\n",
              "      <td>enterprise vehicle exchange/franklin</td>\n",
              "      <td>15500.0</td>\n",
              "      <td>10000</td>\n",
              "      <td>2015-07-02 06:45:00+07:00</td>\n",
              "    </tr>\n",
              "    <tr>\n",
              "      <th>558832</th>\n",
              "      <td>2015</td>\n",
              "      <td>kia</td>\n",
              "      <td>K900</td>\n",
              "      <td>Luxury</td>\n",
              "      <td>Sedan</td>\n",
              "      <td>NaN</td>\n",
              "      <td>knalw4d4xf6019304</td>\n",
              "      <td>in</td>\n",
              "      <td>4.5</td>\n",
              "      <td>18255.0</td>\n",
              "      <td>silver</td>\n",
              "      <td>black</td>\n",
              "      <td>avis corporation</td>\n",
              "      <td>35300.0</td>\n",
              "      <td>33000</td>\n",
              "      <td>2015-07-09 07:00:00+07:00</td>\n",
              "    </tr>\n",
              "    <tr>\n",
              "      <th>558835</th>\n",
              "      <td>2015</td>\n",
              "      <td>nissan</td>\n",
              "      <td>Altima</td>\n",
              "      <td>2.5 S</td>\n",
              "      <td>sedan</td>\n",
              "      <td>automatic</td>\n",
              "      <td>1n4al3ap0fc216050</td>\n",
              "      <td>ga</td>\n",
              "      <td>3.8</td>\n",
              "      <td>16658.0</td>\n",
              "      <td>white</td>\n",
              "      <td>black</td>\n",
              "      <td>enterprise vehicle exchange / tra / rental / t...</td>\n",
              "      <td>15100.0</td>\n",
              "      <td>11100</td>\n",
              "      <td>2015-07-09 06:45:00+07:00</td>\n",
              "    </tr>\n",
              "  </tbody>\n",
              "</table>\n",
              "<p>6746 rows × 16 columns</p>\n",
              "</div>\n",
              "      <button class=\"colab-df-convert\" onclick=\"convertToInteractive('df-fbd11215-d677-4cf2-ad8a-ed8006d2ecfd')\"\n",
              "              title=\"Convert this dataframe to an interactive table.\"\n",
              "              style=\"display:none;\">\n",
              "        \n",
              "  <svg xmlns=\"http://www.w3.org/2000/svg\" height=\"24px\"viewBox=\"0 0 24 24\"\n",
              "       width=\"24px\">\n",
              "    <path d=\"M0 0h24v24H0V0z\" fill=\"none\"/>\n",
              "    <path d=\"M18.56 5.44l.94 2.06.94-2.06 2.06-.94-2.06-.94-.94-2.06-.94 2.06-2.06.94zm-11 1L8.5 8.5l.94-2.06 2.06-.94-2.06-.94L8.5 2.5l-.94 2.06-2.06.94zm10 10l.94 2.06.94-2.06 2.06-.94-2.06-.94-.94-2.06-.94 2.06-2.06.94z\"/><path d=\"M17.41 7.96l-1.37-1.37c-.4-.4-.92-.59-1.43-.59-.52 0-1.04.2-1.43.59L10.3 9.45l-7.72 7.72c-.78.78-.78 2.05 0 2.83L4 21.41c.39.39.9.59 1.41.59.51 0 1.02-.2 1.41-.59l7.78-7.78 2.81-2.81c.8-.78.8-2.07 0-2.86zM5.41 20L4 18.59l7.72-7.72 1.47 1.35L5.41 20z\"/>\n",
              "  </svg>\n",
              "      </button>\n",
              "      \n",
              "  <style>\n",
              "    .colab-df-container {\n",
              "      display:flex;\n",
              "      flex-wrap:wrap;\n",
              "      gap: 12px;\n",
              "    }\n",
              "\n",
              "    .colab-df-convert {\n",
              "      background-color: #E8F0FE;\n",
              "      border: none;\n",
              "      border-radius: 50%;\n",
              "      cursor: pointer;\n",
              "      display: none;\n",
              "      fill: #1967D2;\n",
              "      height: 32px;\n",
              "      padding: 0 0 0 0;\n",
              "      width: 32px;\n",
              "    }\n",
              "\n",
              "    .colab-df-convert:hover {\n",
              "      background-color: #E2EBFA;\n",
              "      box-shadow: 0px 1px 2px rgba(60, 64, 67, 0.3), 0px 1px 3px 1px rgba(60, 64, 67, 0.15);\n",
              "      fill: #174EA6;\n",
              "    }\n",
              "\n",
              "    [theme=dark] .colab-df-convert {\n",
              "      background-color: #3B4455;\n",
              "      fill: #D2E3FC;\n",
              "    }\n",
              "\n",
              "    [theme=dark] .colab-df-convert:hover {\n",
              "      background-color: #434B5C;\n",
              "      box-shadow: 0px 1px 3px 1px rgba(0, 0, 0, 0.15);\n",
              "      filter: drop-shadow(0px 1px 2px rgba(0, 0, 0, 0.3));\n",
              "      fill: #FFFFFF;\n",
              "    }\n",
              "  </style>\n",
              "\n",
              "      <script>\n",
              "        const buttonEl =\n",
              "          document.querySelector('#df-fbd11215-d677-4cf2-ad8a-ed8006d2ecfd button.colab-df-convert');\n",
              "        buttonEl.style.display =\n",
              "          google.colab.kernel.accessAllowed ? 'block' : 'none';\n",
              "\n",
              "        async function convertToInteractive(key) {\n",
              "          const element = document.querySelector('#df-fbd11215-d677-4cf2-ad8a-ed8006d2ecfd');\n",
              "          const dataTable =\n",
              "            await google.colab.kernel.invokeFunction('convertToInteractive',\n",
              "                                                     [key], {});\n",
              "          if (!dataTable) return;\n",
              "\n",
              "          const docLinkHtml = 'Like what you see? Visit the ' +\n",
              "            '<a target=\"_blank\" href=https://colab.research.google.com/notebooks/data_table.ipynb>data table notebook</a>'\n",
              "            + ' to learn more about interactive tables.';\n",
              "          element.innerHTML = '';\n",
              "          dataTable['output_type'] = 'display_data';\n",
              "          await google.colab.output.renderOutput(dataTable, element);\n",
              "          const docLink = document.createElement('div');\n",
              "          docLink.innerHTML = docLinkHtml;\n",
              "          element.appendChild(docLink);\n",
              "        }\n",
              "      </script>\n",
              "    </div>\n",
              "  </div>\n",
              "  "
            ]
          },
          "metadata": {},
          "execution_count": 106
        }
      ]
    },
    {
      "cell_type": "code",
      "source": [
        "import seaborn as sns\n",
        "import matplotlib.pyplot as plt\n",
        "\n",
        "plt.figure(figsize=(12,15))\n",
        "sns.boxplot(x='make', y='sellingprice', data=final_df)\n",
        "plt.xlabel('Make for cars')\n",
        "plt.ylabel('Selling price')\n",
        "plt.title('Selling price distribution for each make of cars')\n",
        "plt.xticks(rotation=90)\n",
        "plt.show()"
      ],
      "metadata": {
        "colab": {
          "base_uri": "https://localhost:8080/",
          "height": 930
        },
        "id": "UgjnUuMnvqvg",
        "outputId": "8e97cf09-b587-40a5-9f2f-8faab670944a"
      },
      "execution_count": 112,
      "outputs": [
        {
          "output_type": "display_data",
          "data": {
            "text/plain": [
              "<Figure size 864x1080 with 1 Axes>"
            ],
            "image/png": "[encoded data removed]"
          },
          "metadata": {
            "needs_background": "light"
          }
        }
      ]
    },
    {
      "cell_type": "markdown",
      "source": [
        "\n",
        "\n",
        "*   The Selling Price of Nissan car maker is less when compared to other car makers from 2010 to 2015\n",
        "*   The median selling price of BMW car maker is high when compared to other car makers and this car have the highest selling price.\n",
        "\n",
        "\n",
        "*   When we observed the above box plot, We can see that that almost all of the median selling price of the car makers is lied between 10000 to 20000 except ford, Chevorlet, bmw.\n",
        "\n",
        "\n",
        "*   Chevorlet car maker has the normal distribution when compared to other car makers.\n",
        "\n",
        "\n",
        "\n",
        "\n",
        "\n",
        "\n"
      ],
      "metadata": {
        "id": "kabt04gMvxd3"
      }
    }
  ],
  "metadata": {
    "kernelspec": {
      "display_name": "Python 3",
      "language": "python",
      "name": "python3"
    },
    "language_info": {
      "codemirror_mode": {
        "name": "ipython",
        "version": 3
      },
      "file_extension": ".py",
      "mimetype": "text/x-python",
      "name": "python",
      "nbconvert_exporter": "python",
      "pygments_lexer": "ipython3",
      "version": "3.8.8"
    },
    "toc": {
      "base_numbering": 1,
      "nav_menu": {},
      "number_sections": false,
      "sideBar": true,
      "skip_h1_title": false,
      "title_cell": "Table of Contents",
      "title_sidebar": "Contents",
      "toc_cell": false,
      "toc_position": {},
      "toc_section_display": true,
      "toc_window_display": false
    },
    "colab": {
      "provenance": []
    }
  },
  "nbformat": 4,
  "nbformat_minor": 0
}