{
  "cells": [
    {
      "cell_type": "markdown",
      "metadata": {
        "id": "DY1AZE3f2nH6"
      },
      "source": [
        "# Logistic Regression Assignment\n",
        "\n",
        "- Run the below cells. If you have the data in a different directory, you'll need to change the url.\n",
        "- Complete all of the numbered questions. You may call any packages that we've used in class.  "
      ]
    },
    {
      "cell_type": "code",
      "execution_count": 1,
      "metadata": {
        "id": "8ZYbzYZH2nH8",
        "outputId": "8713553d-71dc-4aa5-9d3c-635d7d164c4f",
        "colab": {
          "base_uri": "https://localhost:8080/",
          "height": 353
        }
      },
      "outputs": [
        {
          "output_type": "execute_result",
          "data": {
            "text/plain": [
              "  left_company  age frequency_of_travel              department  \\\n",
              "0           No   37       Travel_Rarely                   Sales   \n",
              "1           No   39       Travel_Rarely  Research & Development   \n",
              "2           No   52   Travel_Frequently  Research & Development   \n",
              "3           No   50          Non-Travel                   Sales   \n",
              "4           No   44       Travel_Rarely  Research & Development   \n",
              "\n",
              "   commuting_distance  education  satisfaction_with_environment  gender  \\\n",
              "0                  16          4                              4    Male   \n",
              "1                   3          2                              3    Male   \n",
              "2                  25          4                              3  Female   \n",
              "3                   1          3                              4  Female   \n",
              "4                   4          3                              4    Male   \n",
              "\n",
              "   seniority_level                   position  satisfaction_with_job  \\\n",
              "0                2            Sales Executive                      3   \n",
              "1                2      Laboratory Technician                      3   \n",
              "2                4     Manufacturing Director                      4   \n",
              "3                2            Sales Executive                      3   \n",
              "4                2  Healthcare Representative                      2   \n",
              "\n",
              "  married_or_single  last_raise_pct  last_performance_rating  \\\n",
              "0          Divorced              19                        3   \n",
              "1          Divorced              15                        3   \n",
              "2           Married              22                        4   \n",
              "3           Married              12                        3   \n",
              "4            Single              12                        3   \n",
              "\n",
              "   total_years_working  years_at_company  years_in_current_job  \\\n",
              "0                    9                 1                     0   \n",
              "1                   11                10                     8   \n",
              "2                   31                 9                     8   \n",
              "3                   19                18                     7   \n",
              "4                   10                 5                     2   \n",
              "\n",
              "   years_since_last_promotion  years_with_current_supervisor  \n",
              "0                           0                              0  \n",
              "1                           0                              7  \n",
              "2                           0                              0  \n",
              "3                           0                             13  \n",
              "4                           2                              3  "
            ],
            "text/html": [
              "\n",
              "  <div id=\"df-71c39b91-6899-4cc4-9386-e6e15239b0a4\">\n",
              "    <div class=\"colab-df-container\">\n",
              "      <div>\n",
              "<style scoped>\n",
              "    .dataframe tbody tr th:only-of-type {\n",
              "        vertical-align: middle;\n",
              "    }\n",
              "\n",
              "    .dataframe tbody tr th {\n",
              "        vertical-align: top;\n",
              "    }\n",
              "\n",
              "    .dataframe thead th {\n",
              "        text-align: right;\n",
              "    }\n",
              "</style>\n",
              "<table border=\"1\" class=\"dataframe\">\n",
              "  <thead>\n",
              "    <tr style=\"text-align: right;\">\n",
              "      <th></th>\n",
              "      <th>left_company</th>\n",
              "      <th>age</th>\n",
              "      <th>frequency_of_travel</th>\n",
              "      <th>department</th>\n",
              "      <th>commuting_distance</th>\n",
              "      <th>education</th>\n",
              "      <th>satisfaction_with_environment</th>\n",
              "      <th>gender</th>\n",
              "      <th>seniority_level</th>\n",
              "      <th>position</th>\n",
              "      <th>satisfaction_with_job</th>\n",
              "      <th>married_or_single</th>\n",
              "      <th>last_raise_pct</th>\n",
              "      <th>last_performance_rating</th>\n",
              "      <th>total_years_working</th>\n",
              "      <th>years_at_company</th>\n",
              "      <th>years_in_current_job</th>\n",
              "      <th>years_since_last_promotion</th>\n",
              "      <th>years_with_current_supervisor</th>\n",
              "    </tr>\n",
              "  </thead>\n",
              "  <tbody>\n",
              "    <tr>\n",
              "      <th>0</th>\n",
              "      <td>No</td>\n",
              "      <td>37</td>\n",
              "      <td>Travel_Rarely</td>\n",
              "      <td>Sales</td>\n",
              "      <td>16</td>\n",
              "      <td>4</td>\n",
              "      <td>4</td>\n",
              "      <td>Male</td>\n",
              "      <td>2</td>\n",
              "      <td>Sales Executive</td>\n",
              "      <td>3</td>\n",
              "      <td>Divorced</td>\n",
              "      <td>19</td>\n",
              "      <td>3</td>\n",
              "      <td>9</td>\n",
              "      <td>1</td>\n",
              "      <td>0</td>\n",
              "      <td>0</td>\n",
              "      <td>0</td>\n",
              "    </tr>\n",
              "    <tr>\n",
              "      <th>1</th>\n",
              "      <td>No</td>\n",
              "      <td>39</td>\n",
              "      <td>Travel_Rarely</td>\n",
              "      <td>Research &amp; Development</td>\n",
              "      <td>3</td>\n",
              "      <td>2</td>\n",
              "      <td>3</td>\n",
              "      <td>Male</td>\n",
              "      <td>2</td>\n",
              "      <td>Laboratory Technician</td>\n",
              "      <td>3</td>\n",
              "      <td>Divorced</td>\n",
              "      <td>15</td>\n",
              "      <td>3</td>\n",
              "      <td>11</td>\n",
              "      <td>10</td>\n",
              "      <td>8</td>\n",
              "      <td>0</td>\n",
              "      <td>7</td>\n",
              "    </tr>\n",
              "    <tr>\n",
              "      <th>2</th>\n",
              "      <td>No</td>\n",
              "      <td>52</td>\n",
              "      <td>Travel_Frequently</td>\n",
              "      <td>Research &amp; Development</td>\n",
              "      <td>25</td>\n",
              "      <td>4</td>\n",
              "      <td>3</td>\n",
              "      <td>Female</td>\n",
              "      <td>4</td>\n",
              "      <td>Manufacturing Director</td>\n",
              "      <td>4</td>\n",
              "      <td>Married</td>\n",
              "      <td>22</td>\n",
              "      <td>4</td>\n",
              "      <td>31</td>\n",
              "      <td>9</td>\n",
              "      <td>8</td>\n",
              "      <td>0</td>\n",
              "      <td>0</td>\n",
              "    </tr>\n",
              "    <tr>\n",
              "      <th>3</th>\n",
              "      <td>No</td>\n",
              "      <td>50</td>\n",
              "      <td>Non-Travel</td>\n",
              "      <td>Sales</td>\n",
              "      <td>1</td>\n",
              "      <td>3</td>\n",
              "      <td>4</td>\n",
              "      <td>Female</td>\n",
              "      <td>2</td>\n",
              "      <td>Sales Executive</td>\n",
              "      <td>3</td>\n",
              "      <td>Married</td>\n",
              "      <td>12</td>\n",
              "      <td>3</td>\n",
              "      <td>19</td>\n",
              "      <td>18</td>\n",
              "      <td>7</td>\n",
              "      <td>0</td>\n",
              "      <td>13</td>\n",
              "    </tr>\n",
              "    <tr>\n",
              "      <th>4</th>\n",
              "      <td>No</td>\n",
              "      <td>44</td>\n",
              "      <td>Travel_Rarely</td>\n",
              "      <td>Research &amp; Development</td>\n",
              "      <td>4</td>\n",
              "      <td>3</td>\n",
              "      <td>4</td>\n",
              "      <td>Male</td>\n",
              "      <td>2</td>\n",
              "      <td>Healthcare Representative</td>\n",
              "      <td>2</td>\n",
              "      <td>Single</td>\n",
              "      <td>12</td>\n",
              "      <td>3</td>\n",
              "      <td>10</td>\n",
              "      <td>5</td>\n",
              "      <td>2</td>\n",
              "      <td>2</td>\n",
              "      <td>3</td>\n",
              "    </tr>\n",
              "  </tbody>\n",
              "</table>\n",
              "</div>\n",
              "      <button class=\"colab-df-convert\" onclick=\"convertToInteractive('df-71c39b91-6899-4cc4-9386-e6e15239b0a4')\"\n",
              "              title=\"Convert this dataframe to an interactive table.\"\n",
              "              style=\"display:none;\">\n",
              "        \n",
              "  <svg xmlns=\"http://www.w3.org/2000/svg\" height=\"24px\"viewBox=\"0 0 24 24\"\n",
              "       width=\"24px\">\n",
              "    <path d=\"M0 0h24v24H0V0z\" fill=\"none\"/>\n",
              "    <path d=\"M18.56 5.44l.94 2.06.94-2.06 2.06-.94-2.06-.94-.94-2.06-.94 2.06-2.06.94zm-11 1L8.5 8.5l.94-2.06 2.06-.94-2.06-.94L8.5 2.5l-.94 2.06-2.06.94zm10 10l.94 2.06.94-2.06 2.06-.94-2.06-.94-.94-2.06-.94 2.06-2.06.94z\"/><path d=\"M17.41 7.96l-1.37-1.37c-.4-.4-.92-.59-1.43-.59-.52 0-1.04.2-1.43.59L10.3 9.45l-7.72 7.72c-.78.78-.78 2.05 0 2.83L4 21.41c.39.39.9.59 1.41.59.51 0 1.02-.2 1.41-.59l7.78-7.78 2.81-2.81c.8-.78.8-2.07 0-2.86zM5.41 20L4 18.59l7.72-7.72 1.47 1.35L5.41 20z\"/>\n",
              "  </svg>\n",
              "      </button>\n",
              "      \n",
              "  <style>\n",
              "    .colab-df-container {\n",
              "      display:flex;\n",
              "      flex-wrap:wrap;\n",
              "      gap: 12px;\n",
              "    }\n",
              "\n",
              "    .colab-df-convert {\n",
              "      background-color: #E8F0FE;\n",
              "      border: none;\n",
              "      border-radius: 50%;\n",
              "      cursor: pointer;\n",
              "      display: none;\n",
              "      fill: #1967D2;\n",
              "      height: 32px;\n",
              "      padding: 0 0 0 0;\n",
              "      width: 32px;\n",
              "    }\n",
              "\n",
              "    .colab-df-convert:hover {\n",
              "      background-color: #E2EBFA;\n",
              "      box-shadow: 0px 1px 2px rgba(60, 64, 67, 0.3), 0px 1px 3px 1px rgba(60, 64, 67, 0.15);\n",
              "      fill: #174EA6;\n",
              "    }\n",
              "\n",
              "    [theme=dark] .colab-df-convert {\n",
              "      background-color: #3B4455;\n",
              "      fill: #D2E3FC;\n",
              "    }\n",
              "\n",
              "    [theme=dark] .colab-df-convert:hover {\n",
              "      background-color: #434B5C;\n",
              "      box-shadow: 0px 1px 3px 1px rgba(0, 0, 0, 0.15);\n",
              "      filter: drop-shadow(0px 1px 2px rgba(0, 0, 0, 0.3));\n",
              "      fill: #FFFFFF;\n",
              "    }\n",
              "  </style>\n",
              "\n",
              "      <script>\n",
              "        const buttonEl =\n",
              "          document.querySelector('#df-71c39b91-6899-4cc4-9386-e6e15239b0a4 button.colab-df-convert');\n",
              "        buttonEl.style.display =\n",
              "          google.colab.kernel.accessAllowed ? 'block' : 'none';\n",
              "\n",
              "        async function convertToInteractive(key) {\n",
              "          const element = document.querySelector('#df-71c39b91-6899-4cc4-9386-e6e15239b0a4');\n",
              "          const dataTable =\n",
              "            await google.colab.kernel.invokeFunction('convertToInteractive',\n",
              "                                                     [key], {});\n",
              "          if (!dataTable) return;\n",
              "\n",
              "          const docLinkHtml = 'Like what you see? Visit the ' +\n",
              "            '<a target=\"_blank\" href=https://colab.research.google.com/notebooks/data_table.ipynb>data table notebook</a>'\n",
              "            + ' to learn more about interactive tables.';\n",
              "          element.innerHTML = '';\n",
              "          dataTable['output_type'] = 'display_data';\n",
              "          await google.colab.output.renderOutput(dataTable, element);\n",
              "          const docLink = document.createElement('div');\n",
              "          docLink.innerHTML = docLinkHtml;\n",
              "          element.appendChild(docLink);\n",
              "        }\n",
              "      </script>\n",
              "    </div>\n",
              "  </div>\n",
              "  "
            ]
          },
          "metadata": {},
          "execution_count": 1
        }
      ],
      "source": [
        "import pandas as pd\n",
        "import numpy as np\n",
        "import matplotlib.pyplot as plt\n",
        "%matplotlib inline\n",
        "\n",
        "df = pd.read_csv('https://raw.githubusercontent.com/msaricaumbc/DS_data/master/ds602/log_reg/employee-turnover-balanced.csv')\n",
        "df.head()"
      ]
    },
    {
      "cell_type": "code",
      "source": [
        "df.info()"
      ],
      "metadata": {
        "colab": {
          "base_uri": "https://localhost:8080/"
        },
        "id": "OZpJFdcHWUlo",
        "outputId": "19f5fd51-9048-4cc8-cf38-503c3ecc2ee4"
      },
      "execution_count": 2,
      "outputs": [
        {
          "output_type": "stream",
          "name": "stdout",
          "text": [
            "<class 'pandas.core.frame.DataFrame'>\n",
            "RangeIndex: 1000 entries, 0 to 999\n",
            "Data columns (total 19 columns):\n",
            " #   Column                         Non-Null Count  Dtype \n",
            "---  ------                         --------------  ----- \n",
            " 0   left_company                   1000 non-null   object\n",
            " 1   age                            1000 non-null   int64 \n",
            " 2   frequency_of_travel            1000 non-null   object\n",
            " 3   department                     1000 non-null   object\n",
            " 4   commuting_distance             1000 non-null   int64 \n",
            " 5   education                      1000 non-null   int64 \n",
            " 6   satisfaction_with_environment  1000 non-null   int64 \n",
            " 7   gender                         1000 non-null   object\n",
            " 8   seniority_level                1000 non-null   int64 \n",
            " 9   position                       1000 non-null   object\n",
            " 10  satisfaction_with_job          1000 non-null   int64 \n",
            " 11  married_or_single              1000 non-null   object\n",
            " 12  last_raise_pct                 1000 non-null   int64 \n",
            " 13  last_performance_rating        1000 non-null   int64 \n",
            " 14  total_years_working            1000 non-null   int64 \n",
            " 15  years_at_company               1000 non-null   int64 \n",
            " 16  years_in_current_job           1000 non-null   int64 \n",
            " 17  years_since_last_promotion     1000 non-null   int64 \n",
            " 18  years_with_current_supervisor  1000 non-null   int64 \n",
            "dtypes: int64(13), object(6)\n",
            "memory usage: 148.6+ KB\n"
          ]
        }
      ]
    },
    {
      "cell_type": "code",
      "source": [
        "df.describe()"
      ],
      "metadata": {
        "colab": {
          "base_uri": "https://localhost:8080/",
          "height": 361
        },
        "id": "X9peD1saWXPy",
        "outputId": "779d456f-65cb-4c19-ab63-1438cff28715"
      },
      "execution_count": 3,
      "outputs": [
        {
          "output_type": "execute_result",
          "data": {
            "text/plain": [
              "               age  commuting_distance    education  \\\n",
              "count  1000.000000         1000.000000  1000.000000   \n",
              "mean     35.713000            9.593000     2.864000   \n",
              "std       9.366556            8.118452     1.029837   \n",
              "min      18.000000            1.000000     1.000000   \n",
              "25%      29.000000            2.000000     2.000000   \n",
              "50%      34.000000            8.000000     3.000000   \n",
              "75%      42.000000           15.000000     4.000000   \n",
              "max      60.000000           29.000000     5.000000   \n",
              "\n",
              "       satisfaction_with_environment  seniority_level  satisfaction_with_job  \\\n",
              "count                    1000.000000      1000.000000            1000.000000   \n",
              "mean                        2.597000         1.909000               2.621000   \n",
              "std                         1.122431         1.067642               1.120095   \n",
              "min                         1.000000         1.000000               1.000000   \n",
              "25%                         2.000000         1.000000               2.000000   \n",
              "50%                         3.000000         2.000000               3.000000   \n",
              "75%                         4.000000         2.000000               4.000000   \n",
              "max                         4.000000         5.000000               4.000000   \n",
              "\n",
              "       last_raise_pct  last_performance_rating  total_years_working  \\\n",
              "count     1000.000000              1000.000000           1000.00000   \n",
              "mean        15.244000                 3.166000             10.20600   \n",
              "std          3.752939                 0.372267              7.73637   \n",
              "min         11.000000                 3.000000              0.00000   \n",
              "25%         12.000000                 3.000000              5.00000   \n",
              "50%         14.000000                 3.000000              9.00000   \n",
              "75%         18.000000                 3.000000             13.00000   \n",
              "max         25.000000                 4.000000             40.00000   \n",
              "\n",
              "       years_at_company  years_in_current_job  years_since_last_promotion  \\\n",
              "count       1000.000000           1000.000000                 1000.000000   \n",
              "mean           6.420000              3.857000                    2.065000   \n",
              "std            6.165518              3.513815                    3.094568   \n",
              "min            0.000000              0.000000                    0.000000   \n",
              "25%            2.000000              2.000000                    0.000000   \n",
              "50%            5.000000              2.000000                    1.000000   \n",
              "75%            9.000000              7.000000                    2.000000   \n",
              "max           40.000000             18.000000                   15.000000   \n",
              "\n",
              "       years_with_current_supervisor  \n",
              "count                    1000.000000  \n",
              "mean                        3.754000  \n",
              "std                         3.500534  \n",
              "min                         0.000000  \n",
              "25%                         1.000000  \n",
              "50%                         2.000000  \n",
              "75%                         7.000000  \n",
              "max                        17.000000  "
            ],
            "text/html": [
              "\n",
              "  <div id=\"df-e926ce82-bc0c-4402-b898-4d0124c1ff04\">\n",
              "    <div class=\"colab-df-container\">\n",
              "      <div>\n",
              "<style scoped>\n",
              "    .dataframe tbody tr th:only-of-type {\n",
              "        vertical-align: middle;\n",
              "    }\n",
              "\n",
              "    .dataframe tbody tr th {\n",
              "        vertical-align: top;\n",
              "    }\n",
              "\n",
              "    .dataframe thead th {\n",
              "        text-align: right;\n",
              "    }\n",
              "</style>\n",
              "<table border=\"1\" class=\"dataframe\">\n",
              "  <thead>\n",
              "    <tr style=\"text-align: right;\">\n",
              "      <th></th>\n",
              "      <th>age</th>\n",
              "      <th>commuting_distance</th>\n",
              "      <th>education</th>\n",
              "      <th>satisfaction_with_environment</th>\n",
              "      <th>seniority_level</th>\n",
              "      <th>satisfaction_with_job</th>\n",
              "      <th>last_raise_pct</th>\n",
              "      <th>last_performance_rating</th>\n",
              "      <th>total_years_working</th>\n",
              "      <th>years_at_company</th>\n",
              "      <th>years_in_current_job</th>\n",
              "      <th>years_since_last_promotion</th>\n",
              "      <th>years_with_current_supervisor</th>\n",
              "    </tr>\n",
              "  </thead>\n",
              "  <tbody>\n",
              "    <tr>\n",
              "      <th>count</th>\n",
              "      <td>1000.000000</td>\n",
              "      <td>1000.000000</td>\n",
              "      <td>1000.000000</td>\n",
              "      <td>1000.000000</td>\n",
              "      <td>1000.000000</td>\n",
              "      <td>1000.000000</td>\n",
              "      <td>1000.000000</td>\n",
              "      <td>1000.000000</td>\n",
              "      <td>1000.00000</td>\n",
              "      <td>1000.000000</td>\n",
              "      <td>1000.000000</td>\n",
              "      <td>1000.000000</td>\n",
              "      <td>1000.000000</td>\n",
              "    </tr>\n",
              "    <tr>\n",
              "      <th>mean</th>\n",
              "      <td>35.713000</td>\n",
              "      <td>9.593000</td>\n",
              "      <td>2.864000</td>\n",
              "      <td>2.597000</td>\n",
              "      <td>1.909000</td>\n",
              "      <td>2.621000</td>\n",
              "      <td>15.244000</td>\n",
              "      <td>3.166000</td>\n",
              "      <td>10.20600</td>\n",
              "      <td>6.420000</td>\n",
              "      <td>3.857000</td>\n",
              "      <td>2.065000</td>\n",
              "      <td>3.754000</td>\n",
              "    </tr>\n",
              "    <tr>\n",
              "      <th>std</th>\n",
              "      <td>9.366556</td>\n",
              "      <td>8.118452</td>\n",
              "      <td>1.029837</td>\n",
              "      <td>1.122431</td>\n",
              "      <td>1.067642</td>\n",
              "      <td>1.120095</td>\n",
              "      <td>3.752939</td>\n",
              "      <td>0.372267</td>\n",
              "      <td>7.73637</td>\n",
              "      <td>6.165518</td>\n",
              "      <td>3.513815</td>\n",
              "      <td>3.094568</td>\n",
              "      <td>3.500534</td>\n",
              "    </tr>\n",
              "    <tr>\n",
              "      <th>min</th>\n",
              "      <td>18.000000</td>\n",
              "      <td>1.000000</td>\n",
              "      <td>1.000000</td>\n",
              "      <td>1.000000</td>\n",
              "      <td>1.000000</td>\n",
              "      <td>1.000000</td>\n",
              "      <td>11.000000</td>\n",
              "      <td>3.000000</td>\n",
              "      <td>0.00000</td>\n",
              "      <td>0.000000</td>\n",
              "      <td>0.000000</td>\n",
              "      <td>0.000000</td>\n",
              "      <td>0.000000</td>\n",
              "    </tr>\n",
              "    <tr>\n",
              "      <th>25%</th>\n",
              "      <td>29.000000</td>\n",
              "      <td>2.000000</td>\n",
              "      <td>2.000000</td>\n",
              "      <td>2.000000</td>\n",
              "      <td>1.000000</td>\n",
              "      <td>2.000000</td>\n",
              "      <td>12.000000</td>\n",
              "      <td>3.000000</td>\n",
              "      <td>5.00000</td>\n",
              "      <td>2.000000</td>\n",
              "      <td>2.000000</td>\n",
              "      <td>0.000000</td>\n",
              "      <td>1.000000</td>\n",
              "    </tr>\n",
              "    <tr>\n",
              "      <th>50%</th>\n",
              "      <td>34.000000</td>\n",
              "      <td>8.000000</td>\n",
              "      <td>3.000000</td>\n",
              "      <td>3.000000</td>\n",
              "      <td>2.000000</td>\n",
              "      <td>3.000000</td>\n",
              "      <td>14.000000</td>\n",
              "      <td>3.000000</td>\n",
              "      <td>9.00000</td>\n",
              "      <td>5.000000</td>\n",
              "      <td>2.000000</td>\n",
              "      <td>1.000000</td>\n",
              "      <td>2.000000</td>\n",
              "    </tr>\n",
              "    <tr>\n",
              "      <th>75%</th>\n",
              "      <td>42.000000</td>\n",
              "      <td>15.000000</td>\n",
              "      <td>4.000000</td>\n",
              "      <td>4.000000</td>\n",
              "      <td>2.000000</td>\n",
              "      <td>4.000000</td>\n",
              "      <td>18.000000</td>\n",
              "      <td>3.000000</td>\n",
              "      <td>13.00000</td>\n",
              "      <td>9.000000</td>\n",
              "      <td>7.000000</td>\n",
              "      <td>2.000000</td>\n",
              "      <td>7.000000</td>\n",
              "    </tr>\n",
              "    <tr>\n",
              "      <th>max</th>\n",
              "      <td>60.000000</td>\n",
              "      <td>29.000000</td>\n",
              "      <td>5.000000</td>\n",
              "      <td>4.000000</td>\n",
              "      <td>5.000000</td>\n",
              "      <td>4.000000</td>\n",
              "      <td>25.000000</td>\n",
              "      <td>4.000000</td>\n",
              "      <td>40.00000</td>\n",
              "      <td>40.000000</td>\n",
              "      <td>18.000000</td>\n",
              "      <td>15.000000</td>\n",
              "      <td>17.000000</td>\n",
              "    </tr>\n",
              "  </tbody>\n",
              "</table>\n",
              "</div>\n",
              "      <button class=\"colab-df-convert\" onclick=\"convertToInteractive('df-e926ce82-bc0c-4402-b898-4d0124c1ff04')\"\n",
              "              title=\"Convert this dataframe to an interactive table.\"\n",
              "              style=\"display:none;\">\n",
              "        \n",
              "  <svg xmlns=\"http://www.w3.org/2000/svg\" height=\"24px\"viewBox=\"0 0 24 24\"\n",
              "       width=\"24px\">\n",
              "    <path d=\"M0 0h24v24H0V0z\" fill=\"none\"/>\n",
              "    <path d=\"M18.56 5.44l.94 2.06.94-2.06 2.06-.94-2.06-.94-.94-2.06-.94 2.06-2.06.94zm-11 1L8.5 8.5l.94-2.06 2.06-.94-2.06-.94L8.5 2.5l-.94 2.06-2.06.94zm10 10l.94 2.06.94-2.06 2.06-.94-2.06-.94-.94-2.06-.94 2.06-2.06.94z\"/><path d=\"M17.41 7.96l-1.37-1.37c-.4-.4-.92-.59-1.43-.59-.52 0-1.04.2-1.43.59L10.3 9.45l-7.72 7.72c-.78.78-.78 2.05 0 2.83L4 21.41c.39.39.9.59 1.41.59.51 0 1.02-.2 1.41-.59l7.78-7.78 2.81-2.81c.8-.78.8-2.07 0-2.86zM5.41 20L4 18.59l7.72-7.72 1.47 1.35L5.41 20z\"/>\n",
              "  </svg>\n",
              "      </button>\n",
              "      \n",
              "  <style>\n",
              "    .colab-df-container {\n",
              "      display:flex;\n",
              "      flex-wrap:wrap;\n",
              "      gap: 12px;\n",
              "    }\n",
              "\n",
              "    .colab-df-convert {\n",
              "      background-color: #E8F0FE;\n",
              "      border: none;\n",
              "      border-radius: 50%;\n",
              "      cursor: pointer;\n",
              "      display: none;\n",
              "      fill: #1967D2;\n",
              "      height: 32px;\n",
              "      padding: 0 0 0 0;\n",
              "      width: 32px;\n",
              "    }\n",
              "\n",
              "    .colab-df-convert:hover {\n",
              "      background-color: #E2EBFA;\n",
              "      box-shadow: 0px 1px 2px rgba(60, 64, 67, 0.3), 0px 1px 3px 1px rgba(60, 64, 67, 0.15);\n",
              "      fill: #174EA6;\n",
              "    }\n",
              "\n",
              "    [theme=dark] .colab-df-convert {\n",
              "      background-color: #3B4455;\n",
              "      fill: #D2E3FC;\n",
              "    }\n",
              "\n",
              "    [theme=dark] .colab-df-convert:hover {\n",
              "      background-color: #434B5C;\n",
              "      box-shadow: 0px 1px 3px 1px rgba(0, 0, 0, 0.15);\n",
              "      filter: drop-shadow(0px 1px 2px rgba(0, 0, 0, 0.3));\n",
              "      fill: #FFFFFF;\n",
              "    }\n",
              "  </style>\n",
              "\n",
              "      <script>\n",
              "        const buttonEl =\n",
              "          document.querySelector('#df-e926ce82-bc0c-4402-b898-4d0124c1ff04 button.colab-df-convert');\n",
              "        buttonEl.style.display =\n",
              "          google.colab.kernel.accessAllowed ? 'block' : 'none';\n",
              "\n",
              "        async function convertToInteractive(key) {\n",
              "          const element = document.querySelector('#df-e926ce82-bc0c-4402-b898-4d0124c1ff04');\n",
              "          const dataTable =\n",
              "            await google.colab.kernel.invokeFunction('convertToInteractive',\n",
              "                                                     [key], {});\n",
              "          if (!dataTable) return;\n",
              "\n",
              "          const docLinkHtml = 'Like what you see? Visit the ' +\n",
              "            '<a target=\"_blank\" href=https://colab.research.google.com/notebooks/data_table.ipynb>data table notebook</a>'\n",
              "            + ' to learn more about interactive tables.';\n",
              "          element.innerHTML = '';\n",
              "          dataTable['output_type'] = 'display_data';\n",
              "          await google.colab.output.renderOutput(dataTable, element);\n",
              "          const docLink = document.createElement('div');\n",
              "          docLink.innerHTML = docLinkHtml;\n",
              "          element.appendChild(docLink);\n",
              "        }\n",
              "      </script>\n",
              "    </div>\n",
              "  </div>\n",
              "  "
            ]
          },
          "metadata": {},
          "execution_count": 3
        }
      ]
    },
    {
      "cell_type": "markdown",
      "metadata": {
        "id": "7KXbKE8W2nH-"
      },
      "source": [
        "## Data Definitions\n",
        "- `left_company`: Whether individual left the company or not. This is the target variable.  \n",
        "- `age`: Age of individual. \n",
        "- `frequency_of_travel`: How often person travels for work.  \n",
        "- `department`: Department person works(worked).  \n",
        "- `commuting_distance`: Distance person lives from office.  \n",
        "- `education`: Highest education category.  \n",
        "- `satisfaction_with_environment`: Satisfaction of environment, on lickert scale.  \n",
        "- `gender`: Gender of individual.  \n",
        "- `seniority_level`: Seniority level of individual.  \n",
        "- `position`: Last position held at the company.  \n",
        "- `satisfaction_with_job`: Satisfaction of their job, on lickert scale.  \n",
        "- `married_or_single`: Marital status of person.  \n",
        "- `last_raise_pct`: Percent increase their last raise represented.  \n",
        "- `last_performance_rating`: Most recent annual performance rating, on lickert scale.  \n",
        "- `total_years_working`: Number of years the individual has spent working in their career.  \n",
        "- `years_at_company`: Number of years the individual has been at the company, regardless of position.  \n",
        "- `years_in_current_job`: Number of years the individual has been in their current position.  \n",
        "- `years_since_last_promotion`: Years since the person had their last promotion.  \n",
        "- `years_with_current_supervisor`: Years the person has had their current supervisor."
      ]
    },
    {
      "cell_type": "markdown",
      "metadata": {
        "id": "d-50byld2nH_"
      },
      "source": [
        "# Question 1\n",
        "- What is the distribution of the target (`left_company`)?  \n",
        "- Do you have any concerns on class imbalances?"
      ]
    },
    {
      "cell_type": "code",
      "source": [
        "df.left_company.hist()"
      ],
      "metadata": {
        "colab": {
          "base_uri": "https://localhost:8080/",
          "height": 282
        },
        "id": "8IYqGKwSe0D2",
        "outputId": "852febb7-f564-4f87-8dfc-c541cd6debb6"
      },
      "execution_count": 4,
      "outputs": [
        {
          "output_type": "execute_result",
          "data": {
            "text/plain": [
              "<AxesSubplot:>"
            ]
          },
          "metadata": {},
          "execution_count": 4
        },
        {
          "output_type": "display_data",
          "data": {
            "text/plain": [
              "<Figure size 432x288 with 1 Axes>"
            ],
            "image/png": "[encoded data removed]"
          },
          "metadata": {
            "needs_background": "light"
          }
        }
      ]
    },
    {
      "cell_type": "code",
      "source": [
        "getattr(df, 'left_company').describe()"
      ],
      "metadata": {
        "colab": {
          "base_uri": "https://localhost:8080/"
        },
        "id": "8l607wBZW3V0",
        "outputId": "55b97696-5978-44ad-b8f1-b4d94cc27d91"
      },
      "execution_count": 5,
      "outputs": [
        {
          "output_type": "execute_result",
          "data": {
            "text/plain": [
              "count     1000\n",
              "unique       2\n",
              "top         No\n",
              "freq       500\n",
              "Name: left_company, dtype: object"
            ]
          },
          "metadata": {},
          "execution_count": 5
        }
      ]
    },
    {
      "cell_type": "markdown",
      "metadata": {
        "id": "BzCHO8If2nH_"
      },
      "source": [
        "There are frequency of 500 for each unique fields. That means there are no Imbalances"
      ]
    },
    {
      "cell_type": "markdown",
      "metadata": {
        "id": "DinhId8V2nH_"
      },
      "source": [
        "# Question 2\n",
        "- Create and print a list of the variables that you would treat as numerical and another list for the variables that you would treat as categorical.  \n",
        "- Explain your choices."
      ]
    },
    {
      "cell_type": "code",
      "execution_count": 6,
      "metadata": {
        "id": "KYEnKwL92nIA"
      },
      "outputs": [],
      "source": [
        "numerical_Vars = []\n",
        "categorical_Vars = []\n",
        "def splitting(data_frame):\n",
        "    for column in data_frame.columns:\n",
        "        if data_frame[column].dtype == 'int64' or data_frame[column].dtype == 'float64':\n",
        "            numerical_Vars.append(column)\n",
        "        elif data_frame[column].dtype == 'object':\n",
        "            categorical_Vars.append(column)\n",
        "\n",
        "    return print(\"The numerical features are:\", numerical_Vars ,\"\\n and The categorical features are:\", categorical_Vars)"
      ]
    },
    {
      "cell_type": "code",
      "source": [
        "splitting(df)"
      ],
      "metadata": {
        "colab": {
          "base_uri": "https://localhost:8080/"
        },
        "id": "B34ilX-JYZZ1",
        "outputId": "99aad59e-3140-495d-d904-91141e5d882f"
      },
      "execution_count": 7,
      "outputs": [
        {
          "output_type": "stream",
          "name": "stdout",
          "text": [
            "The numerical features are: ['age', 'commuting_distance', 'education', 'satisfaction_with_environment', 'seniority_level', 'satisfaction_with_job', 'last_raise_pct', 'last_performance_rating', 'total_years_working', 'years_at_company', 'years_in_current_job', 'years_since_last_promotion', 'years_with_current_supervisor'] \n",
            " and The categorical features are: ['left_company', 'frequency_of_travel', 'department', 'gender', 'position', 'married_or_single']\n"
          ]
        }
      ]
    },
    {
      "cell_type": "code",
      "source": [
        "for col in categorical_Vars:\n",
        "    unique_vals = df[col].unique()\n",
        "    print(f\"{col}\\t{len(unique_vals)}\")\n",
        "    print(unique_vals)"
      ],
      "metadata": {
        "colab": {
          "base_uri": "https://localhost:8080/"
        },
        "id": "kzTrkei0X-HK",
        "outputId": "99aad875-28e8-4207-998c-341126f9c173"
      },
      "execution_count": 8,
      "outputs": [
        {
          "output_type": "stream",
          "name": "stdout",
          "text": [
            "left_company\t2\n",
            "['No' 'Yes']\n",
            "frequency_of_travel\t3\n",
            "['Travel_Rarely' 'Travel_Frequently' 'Non-Travel']\n",
            "department\t3\n",
            "['Sales' 'Research & Development' 'Human Resources']\n",
            "gender\t2\n",
            "['Male' 'Female']\n",
            "position\t9\n",
            "['Sales Executive' 'Laboratory Technician' 'Manufacturing Director'\n",
            " 'Healthcare Representative' 'Manager' 'Research Scientist'\n",
            " 'Research Director' 'Sales Representative' 'Human Resources']\n",
            "married_or_single\t3\n",
            "['Divorced' 'Married' 'Single']\n"
          ]
        }
      ]
    },
    {
      "cell_type": "markdown",
      "metadata": {
        "id": "Zu28eR-S2nIA"
      },
      "source": [
        "\n",
        "The dataset has two distinct values, \"yes\" or \"no,\" in the column \"Left company.\" Similarly, all the columns listed under the \"List of Categorical Variables\" have a limited number of discrete values. In contrast, all the columns listed under the \"List of Numerical Variables\" have a range of continuous values. This means that the categorical variables are composed of separate and distinct categories, while the numerical variables are composed of a range of values that are measurable and can take any value within a certain range"
      ]
    },
    {
      "cell_type": "markdown",
      "metadata": {
        "id": "KZySCcb52nIB"
      },
      "source": [
        "# Question 3\n",
        "- Determine if any numerical variables risk multicolinearity.  \n",
        "- Remove those variables (if any) from your numerical_vars list.  \n",
        "- Why did you or did not remove any?"
      ]
    },
    {
      "cell_type": "code",
      "source": [
        "df_corr = df[numerical_Vars].corr()\n",
        "print(df_corr)"
      ],
      "metadata": {
        "colab": {
          "base_uri": "https://localhost:8080/"
        },
        "id": "Dp8OTPGWYbNW",
        "outputId": "367de3d9-edfe-4748-d88b-e2e6a5abf491"
      },
      "execution_count": 9,
      "outputs": [
        {
          "output_type": "stream",
          "name": "stdout",
          "text": [
            "                                    age  commuting_distance  education  \\\n",
            "age                            1.000000            0.012074   0.199138   \n",
            "commuting_distance             0.012074            1.000000   0.033003   \n",
            "education                      0.199138            0.033003   1.000000   \n",
            "satisfaction_with_environment  0.001556           -0.019556  -0.059586   \n",
            "seniority_level                0.522604            0.038915   0.080685   \n",
            "satisfaction_with_job          0.095242            0.023859   0.015148   \n",
            "last_raise_pct                 0.027851            0.104421   0.013515   \n",
            "last_performance_rating        0.003629            0.089282  -0.014162   \n",
            "total_years_working            0.673804            0.025593   0.160822   \n",
            "years_at_company               0.384760            0.023017   0.091614   \n",
            "years_in_current_job           0.310010            0.031890   0.073181   \n",
            "years_since_last_promotion     0.242456            0.047552   0.077218   \n",
            "years_with_current_supervisor  0.273679            0.031520   0.083453   \n",
            "\n",
            "                               satisfaction_with_environment  seniority_level  \\\n",
            "age                                                 0.001556         0.522604   \n",
            "commuting_distance                                 -0.019556         0.038915   \n",
            "education                                          -0.059586         0.080685   \n",
            "satisfaction_with_environment                       1.000000         0.009462   \n",
            "seniority_level                                     0.009462         1.000000   \n",
            "satisfaction_with_job                              -0.006160         0.040606   \n",
            "last_raise_pct                                      0.014812        -0.022683   \n",
            "last_performance_rating                             0.006943        -0.029956   \n",
            "total_years_working                                -0.027203         0.779351   \n",
            "years_at_company                                    0.001339         0.572724   \n",
            "years_in_current_job                                0.023698         0.478151   \n",
            "years_since_last_promotion                          0.042132         0.392935   \n",
            "years_with_current_supervisor                       0.021875         0.430047   \n",
            "\n",
            "                               satisfaction_with_job  last_raise_pct  \\\n",
            "age                                         0.095242        0.027851   \n",
            "commuting_distance                          0.023859        0.104421   \n",
            "education                                   0.015148        0.013515   \n",
            "satisfaction_with_environment              -0.006160        0.014812   \n",
            "seniority_level                             0.040606       -0.022683   \n",
            "satisfaction_with_job                       1.000000       -0.037273   \n",
            "last_raise_pct                             -0.037273        1.000000   \n",
            "last_performance_rating                    -0.089030        0.792791   \n",
            "total_years_working                         0.029119       -0.004905   \n",
            "years_at_company                            0.071920        0.004435   \n",
            "years_in_current_job                        0.037591        0.039691   \n",
            "years_since_last_promotion                  0.038015        0.000615   \n",
            "years_with_current_supervisor               0.001472        0.060882   \n",
            "\n",
            "                               last_performance_rating  total_years_working  \\\n",
            "age                                           0.003629             0.673804   \n",
            "commuting_distance                            0.089282             0.025593   \n",
            "education                                    -0.014162             0.160822   \n",
            "satisfaction_with_environment                 0.006943            -0.027203   \n",
            "seniority_level                              -0.029956             0.779351   \n",
            "satisfaction_with_job                        -0.089030             0.029119   \n",
            "last_raise_pct                                0.792791            -0.004905   \n",
            "last_performance_rating                       1.000000             0.014877   \n",
            "total_years_working                           0.014877             1.000000   \n",
            "years_at_company                              0.022364             0.685955   \n",
            "years_in_current_job                          0.087038             0.548494   \n",
            "years_since_last_promotion                    0.030595             0.423619   \n",
            "years_with_current_supervisor                 0.100502             0.506007   \n",
            "\n",
            "                               years_at_company  years_in_current_job  \\\n",
            "age                                    0.384760              0.310010   \n",
            "commuting_distance                     0.023017              0.031890   \n",
            "education                              0.091614              0.073181   \n",
            "satisfaction_with_environment          0.001339              0.023698   \n",
            "seniority_level                        0.572724              0.478151   \n",
            "satisfaction_with_job                  0.071920              0.037591   \n",
            "last_raise_pct                         0.004435              0.039691   \n",
            "last_performance_rating                0.022364              0.087038   \n",
            "total_years_working                    0.685955              0.548494   \n",
            "years_at_company                       1.000000              0.801423   \n",
            "years_in_current_job                   0.801423              1.000000   \n",
            "years_since_last_promotion             0.630344              0.611928   \n",
            "years_with_current_supervisor          0.781147              0.781647   \n",
            "\n",
            "                               years_since_last_promotion  \\\n",
            "age                                              0.242456   \n",
            "commuting_distance                               0.047552   \n",
            "education                                        0.077218   \n",
            "satisfaction_with_environment                    0.042132   \n",
            "seniority_level                                  0.392935   \n",
            "satisfaction_with_job                            0.038015   \n",
            "last_raise_pct                                   0.000615   \n",
            "last_performance_rating                          0.030595   \n",
            "total_years_working                              0.423619   \n",
            "years_at_company                                 0.630344   \n",
            "years_in_current_job                             0.611928   \n",
            "years_since_last_promotion                       1.000000   \n",
            "years_with_current_supervisor                    0.599529   \n",
            "\n",
            "                               years_with_current_supervisor  \n",
            "age                                                 0.273679  \n",
            "commuting_distance                                  0.031520  \n",
            "education                                           0.083453  \n",
            "satisfaction_with_environment                       0.021875  \n",
            "seniority_level                                     0.430047  \n",
            "satisfaction_with_job                               0.001472  \n",
            "last_raise_pct                                      0.060882  \n",
            "last_performance_rating                             0.100502  \n",
            "total_years_working                                 0.506007  \n",
            "years_at_company                                    0.781147  \n",
            "years_in_current_job                                0.781647  \n",
            "years_since_last_promotion                          0.599529  \n",
            "years_with_current_supervisor                       1.000000  \n"
          ]
        }
      ]
    },
    {
      "cell_type": "code",
      "source": [
        "import seaborn as sns"
      ],
      "metadata": {
        "id": "IIGtA34lfkCl"
      },
      "execution_count": 10,
      "outputs": []
    },
    {
      "cell_type": "code",
      "source": [
        "plt.figure(figsize=(10,7))\n",
        "sns.heatmap(df[numerical_Vars].corr(), cmap='coolwarm', annot=True)\n",
        "plt.show()"
      ],
      "metadata": {
        "colab": {
          "base_uri": "https://localhost:8080/",
          "height": 575
        },
        "id": "Kchde7fifb1A",
        "outputId": "9db783b5-ea31-4d00-b1ca-38a6d91c5b5a"
      },
      "execution_count": 11,
      "outputs": [
        {
          "output_type": "display_data",
          "data": {
            "text/plain": [
              "<Figure size 720x504 with 2 Axes>"
            ],
            "image/png": "[encoded data removed]"
          },
          "metadata": {
            "needs_background": "light"
          }
        }
      ]
    },
    {
      "cell_type": "code",
      "source": [
        "from statsmodels.stats.outliers_influence import variance_inflation_factor\n",
        "from statsmodels.tools.tools import add_constant\n",
        "\n",
        "\n",
        "\n",
        "X = df[numerical_Vars]\n",
        "\n",
        "X = add_constant(X)\n",
        "\n",
        "vif = pd.Series([variance_inflation_factor(X.values, i) for i in range(X.shape[1])],\n",
        "                index=X.columns)\n",
        "print('Variance Inflation Factor (VIF):')\n",
        "print(vif)\n"
      ],
      "metadata": {
        "colab": {
          "base_uri": "https://localhost:8080/"
        },
        "id": "65DSuifxcp8d",
        "outputId": "023c286b-a610-469f-ca3b-93a257f85bfa"
      },
      "execution_count": 12,
      "outputs": [
        {
          "output_type": "stream",
          "name": "stdout",
          "text": [
            "Variance Inflation Factor (VIF):\n",
            "const                            139.180236\n",
            "age                                1.936914\n",
            "commuting_distance                 1.017191\n",
            "education                          1.056972\n",
            "satisfaction_with_environment      1.012122\n",
            "seniority_level                    2.626717\n",
            "satisfaction_with_job              1.037685\n",
            "last_raise_pct                     2.744391\n",
            "last_performance_rating            2.794610\n",
            "total_years_working                4.488986\n",
            "years_at_company                   4.702972\n",
            "years_in_current_job               3.502896\n",
            "years_since_last_promotion         1.805935\n",
            "years_with_current_supervisor      3.235829\n",
            "dtype: float64\n"
          ]
        }
      ]
    },
    {
      "cell_type": "markdown",
      "metadata": {
        "id": "Q2JBZXZr2nIC"
      },
      "source": [
        "The report on variance inflation factor suggests that none of the columns have a high VIF value, which is typically considered to be 5 or more. Therefore, based on this information, the decision was made not to remove any columns due to collinearity."
      ]
    },
    {
      "cell_type": "markdown",
      "metadata": {
        "id": "xu8Q1WJN2nIC"
      },
      "source": [
        "# Question 4\n",
        "- Split the data into training and test sets.  \n",
        "- Use 20% of the data for test and a random state of 124.  "
      ]
    },
    {
      "cell_type": "code",
      "source": [
        "y = df['left_company']\n",
        "X = df.drop('left_company', axis=1)\n"
      ],
      "metadata": {
        "id": "cyY879tiZG0n"
      },
      "execution_count": 13,
      "outputs": []
    },
    {
      "cell_type": "code",
      "source": [
        "import numpy as np\n",
        "\n",
        "# Set random seed : https://numpy.org/doc/stable/reference/random/generated/numpy.random.seed.html\n",
        "np.random.seed(124)\n",
        "\n",
        "# Split data into training and test sets\n",
        "mask = np.random.rand(len(df)) < 0.80\n",
        "X_train = df[mask].drop('left_company', axis=1)\n",
        "X_test = df[~mask].drop('left_company', axis=1)\n",
        "y_train = df[mask]['left_company']\n",
        "y_test = df[~mask]['left_company']\n"
      ],
      "metadata": {
        "id": "iGdwwKNaZYiy"
      },
      "execution_count": 14,
      "outputs": []
    },
    {
      "cell_type": "markdown",
      "metadata": {
        "id": "zrY21l1N2nID"
      },
      "source": [
        "# Question 5\n",
        "- Create a pipeline to process the numerical data.  \n",
        "- Create a pipeline to process the categorical data.  \n",
        "\n",
        "Verify each pipeline contains the columns you would expect using a fit_transform on the training data, i.e., print the shapes of the fit_transforms for each pipeline."
      ]
    },
    {
      "cell_type": "code",
      "source": [
        "from sklearn.pipeline import Pipeline\n",
        "from sklearn.compose import ColumnTransformer\n",
        "from sklearn.impute import SimpleImputer\n",
        "from sklearn.preprocessing import OneHotEncoder\n",
        "from sklearn.preprocessing import StandardScaler\n",
        "\n",
        "\n",
        "num_pipeline = Pipeline([('impute_missing', SimpleImputer(strategy='median')),\n",
        "                           ('standardize_num', StandardScaler())\n",
        "                        ])\n",
        "\n",
        "cat_pipeline = Pipeline([('impute_missing_cats', SimpleImputer(strategy='most_frequent')),\n",
        "                          ('create_dummies_cats', OneHotEncoder(handle_unknown='ignore', drop='first'))])"
      ],
      "metadata": {
        "id": "XNEOd7JLZeKa"
      },
      "execution_count": 15,
      "outputs": []
    },
    {
      "cell_type": "code",
      "source": [
        "processing_pipeline = ColumnTransformer(transformers=[('proc_numeric', num_pipeline, numerical_Vars)])"
      ],
      "metadata": {
        "id": "YjG14cW9Zg_O"
      },
      "execution_count": 16,
      "outputs": []
    },
    {
      "cell_type": "code",
      "source": [
        "temp_df = processing_pipeline.fit_transform(df)"
      ],
      "metadata": {
        "id": "qLHXAMkMZjvM"
      },
      "execution_count": 17,
      "outputs": []
    },
    {
      "cell_type": "code",
      "source": [
        "print('Training examples: {:,}'.format(X_train.shape[0]))\n",
        "print('Test examples: {:,}'.format(X_test.shape[0]))\n"
      ],
      "metadata": {
        "colab": {
          "base_uri": "https://localhost:8080/"
        },
        "id": "7wVFAC1Wf8ao",
        "outputId": "4666d63d-6880-441e-a515-e898d694f5da"
      },
      "execution_count": 18,
      "outputs": [
        {
          "output_type": "stream",
          "name": "stdout",
          "text": [
            "Training examples: 809\n",
            "Test examples: 191\n"
          ]
        }
      ]
    },
    {
      "cell_type": "code",
      "source": [
        "temp_df.shape"
      ],
      "metadata": {
        "colab": {
          "base_uri": "https://localhost:8080/"
        },
        "id": "XylPF5IiZl2-",
        "outputId": "2d2bb154-d12d-4766-e5e2-35cea1d474a6"
      },
      "execution_count": 19,
      "outputs": [
        {
          "output_type": "execute_result",
          "data": {
            "text/plain": [
              "(1000, 13)"
            ]
          },
          "metadata": {},
          "execution_count": 19
        }
      ]
    },
    {
      "cell_type": "markdown",
      "metadata": {
        "id": "pZKMc7Iz2nID"
      },
      "source": [
        "# Question 6\n",
        "- Create a pipeline that combines the pre-processing and implements a logistic regression model.  \n",
        "- Print the accuracy on the training set and the test set.\n",
        "- Do you have any concerns of overfitting based on the differences between the two accuracy scores?"
      ]
    },
    {
      "cell_type": "code",
      "source": [
        "processing_pipeline = ColumnTransformer(transformers=[('proc_numeric', num_pipeline, numerical_Vars),\n",
        "                                                      ('create_dummies', cat_pipeline, categorical_Vars[1:])])"
      ],
      "metadata": {
        "id": "65-3Ap5_ZqAP"
      },
      "execution_count": 20,
      "outputs": []
    },
    {
      "cell_type": "code",
      "source": [
        "from sklearn.linear_model import LogisticRegression\n",
        "\n",
        "modeling_pipeline = Pipeline([('data_processing', processing_pipeline), \n",
        "                              ('lm', LogisticRegression())\n",
        "                             ])\n",
        "modeling_pipeline.fit(X_train, y_train)"
      ],
      "metadata": {
        "colab": {
          "base_uri": "https://localhost:8080/",
          "height": 222
        },
        "id": "ksdFwRArZsX7",
        "outputId": "f3bd1023-321c-46e6-fc9d-71cb3d3601e8"
      },
      "execution_count": 21,
      "outputs": [
        {
          "output_type": "execute_result",
          "data": {
            "text/plain": [
              "Pipeline(steps=[('data_processing',\n",
              "                 ColumnTransformer(transformers=[('proc_numeric',\n",
              "                                                  Pipeline(steps=[('impute_missing',\n",
              "                                                                   SimpleImputer(strategy='median')),\n",
              "                                                                  ('standardize_num',\n",
              "                                                                   StandardScaler())]),\n",
              "                                                  ['age', 'commuting_distance',\n",
              "                                                   'education',\n",
              "                                                   'satisfaction_with_environment',\n",
              "                                                   'seniority_level',\n",
              "                                                   'satisfaction_with_job',\n",
              "                                                   'last_raise_pct',\n",
              "                                                   'last_performance_rating',\n",
              "                                                   'to...\n",
              "                                                   'years_in_current_job',\n",
              "                                                   'years_since_last_promotion',\n",
              "                                                   'years_with_current_supervisor']),\n",
              "                                                 ('create_dummies',\n",
              "                                                  Pipeline(steps=[('impute_missing_cats',\n",
              "                                                                   SimpleImputer(strategy='most_frequent')),\n",
              "                                                                  ('create_dummies_cats',\n",
              "                                                                   OneHotEncoder(drop='first',\n",
              "                                                                                 handle_unknown='ignore'))]),\n",
              "                                                  ['frequency_of_travel',\n",
              "                                                   'department', 'gender',\n",
              "                                                   'position',\n",
              "                                                   'married_or_single'])])),\n",
              "                ('lm', LogisticRegression())])"
            ],
            "text/html": [
              "<style>#sk-container-id-1 {color: black;background-color: white;}#sk-container-id-1 pre{padding: 0;}#sk-container-id-1 div.sk-toggleable {background-color: white;}#sk-container-id-1 label.sk-toggleable__label {cursor: pointer;display: block;width: 100%;margin-bottom: 0;padding: 0.3em;box-sizing: border-box;text-align: center;}#sk-container-id-1 label.sk-toggleable__label-arrow:before {content: \"▸\";float: left;margin-right: 0.25em;color: #696969;}#sk-container-id-1 label.sk-toggleable__label-arrow:hover:before {color: black;}#sk-container-id-1 div.sk-estimator:hover label.sk-toggleable__label-arrow:before {color: black;}#sk-container-id-1 div.sk-toggleable__content {max-height: 0;max-width: 0;overflow: hidden;text-align: left;background-color: #f0f8ff;}#sk-container-id-1 div.sk-toggleable__content pre {margin: 0.2em;color: black;border-radius: 0.25em;background-color: #f0f8ff;}#sk-container-id-1 input.sk-toggleable__control:checked~div.sk-toggleable__content {max-height: 200px;max-width: 100%;overflow: auto;}#sk-container-id-1 input.sk-toggleable__control:checked~label.sk-toggleable__label-arrow:before {content: \"▾\";}#sk-container-id-1 div.sk-estimator input.sk-toggleable__control:checked~label.sk-toggleable__label {background-color: #d4ebff;}#sk-container-id-1 div.sk-label input.sk-toggleable__control:checked~label.sk-toggleable__label {background-color: #d4ebff;}#sk-container-id-1 input.sk-hidden--visually {border: 0;clip: rect(1px 1px 1px 1px);clip: rect(1px, 1px, 1px, 1px);height: 1px;margin: -1px;overflow: hidden;padding: 0;position: absolute;width: 1px;}#sk-container-id-1 div.sk-estimator {font-family: monospace;background-color: #f0f8ff;border: 1px dotted black;border-radius: 0.25em;box-sizing: border-box;margin-bottom: 0.5em;}#sk-container-id-1 div.sk-estimator:hover {background-color: #d4ebff;}#sk-container-id-1 div.sk-parallel-item::after {content: \"\";width: 100%;border-bottom: 1px solid gray;flex-grow: 1;}#sk-container-id-1 div.sk-label:hover label.sk-toggleable__label {background-color: #d4ebff;}#sk-container-id-1 div.sk-serial::before {content: \"\";position: absolute;border-left: 1px solid gray;box-sizing: border-box;top: 0;bottom: 0;left: 50%;z-index: 0;}#sk-container-id-1 div.sk-serial {display: flex;flex-direction: column;align-items: center;background-color: white;padding-right: 0.2em;padding-left: 0.2em;position: relative;}#sk-container-id-1 div.sk-item {position: relative;z-index: 1;}#sk-container-id-1 div.sk-parallel {display: flex;align-items: stretch;justify-content: center;background-color: white;position: relative;}#sk-container-id-1 div.sk-item::before, #sk-container-id-1 div.sk-parallel-item::before {content: \"\";position: absolute;border-left: 1px solid gray;box-sizing: border-box;top: 0;bottom: 0;left: 50%;z-index: -1;}#sk-container-id-1 div.sk-parallel-item {display: flex;flex-direction: column;z-index: 1;position: relative;background-color: white;}#sk-container-id-1 div.sk-parallel-item:first-child::after {align-self: flex-end;width: 50%;}#sk-container-id-1 div.sk-parallel-item:last-child::after {align-self: flex-start;width: 50%;}#sk-container-id-1 div.sk-parallel-item:only-child::after {width: 0;}#sk-container-id-1 div.sk-dashed-wrapped {border: 1px dashed gray;margin: 0 0.4em 0.5em 0.4em;box-sizing: border-box;padding-bottom: 0.4em;background-color: white;}#sk-container-id-1 div.sk-label label {font-family: monospace;font-weight: bold;display: inline-block;line-height: 1.2em;}#sk-container-id-1 div.sk-label-container {text-align: center;}#sk-container-id-1 div.sk-container {/* jupyter's `normalize.less` sets `[hidden] { display: none; }` but bootstrap.min.css set `[hidden] { display: none !important; }` so we also need the `!important` here to be able to override the default hidden behavior on the sphinx rendered scikit-learn.org. See: https://github.com/scikit-learn/scikit-learn/issues/21755 */display: inline-block !important;position: relative;}#sk-container-id-1 div.sk-text-repr-fallback {display: none;}</style><div id=\"sk-container-id-1\" class=\"sk-top-container\"><div class=\"sk-text-repr-fallback\"><pre>Pipeline(steps=[(&#x27;data_processing&#x27;,\n",
              "                 ColumnTransformer(transformers=[(&#x27;proc_numeric&#x27;,\n",
              "                                                  Pipeline(steps=[(&#x27;impute_missing&#x27;,\n",
              "                                                                   SimpleImputer(strategy=&#x27;median&#x27;)),\n",
              "                                                                  (&#x27;standardize_num&#x27;,\n",
              "                                                                   StandardScaler())]),\n",
              "                                                  [&#x27;age&#x27;, &#x27;commuting_distance&#x27;,\n",
              "                                                   &#x27;education&#x27;,\n",
              "                                                   &#x27;satisfaction_with_environment&#x27;,\n",
              "                                                   &#x27;seniority_level&#x27;,\n",
              "                                                   &#x27;satisfaction_with_job&#x27;,\n",
              "                                                   &#x27;last_raise_pct&#x27;,\n",
              "                                                   &#x27;last_performance_rating&#x27;,\n",
              "                                                   &#x27;to...\n",
              "                                                   &#x27;years_in_current_job&#x27;,\n",
              "                                                   &#x27;years_since_last_promotion&#x27;,\n",
              "                                                   &#x27;years_with_current_supervisor&#x27;]),\n",
              "                                                 (&#x27;create_dummies&#x27;,\n",
              "                                                  Pipeline(steps=[(&#x27;impute_missing_cats&#x27;,\n",
              "                                                                   SimpleImputer(strategy=&#x27;most_frequent&#x27;)),\n",
              "                                                                  (&#x27;create_dummies_cats&#x27;,\n",
              "                                                                   OneHotEncoder(drop=&#x27;first&#x27;,\n",
              "                                                                                 handle_unknown=&#x27;ignore&#x27;))]),\n",
              "                                                  [&#x27;frequency_of_travel&#x27;,\n",
              "                                                   &#x27;department&#x27;, &#x27;gender&#x27;,\n",
              "                                                   &#x27;position&#x27;,\n",
              "                                                   &#x27;married_or_single&#x27;])])),\n",
              "                (&#x27;lm&#x27;, LogisticRegression())])</pre><b>In a Jupyter environment, please rerun this cell to show the HTML representation or trust the notebook. <br />On GitHub, the HTML representation is unable to render, please try loading this page with nbviewer.org.</b></div><div class=\"sk-container\" hidden><div class=\"sk-item sk-dashed-wrapped\"><div class=\"sk-label-container\"><div class=\"sk-label sk-toggleable\"><input class=\"sk-toggleable__control sk-hidden--visually\" id=\"sk-estimator-id-1\" type=\"checkbox\" ><label for=\"sk-estimator-id-1\" class=\"sk-toggleable__label sk-toggleable__label-arrow\">Pipeline</label><div class=\"sk-toggleable__content\"><pre>Pipeline(steps=[(&#x27;data_processing&#x27;,\n",
              "                 ColumnTransformer(transformers=[(&#x27;proc_numeric&#x27;,\n",
              "                                                  Pipeline(steps=[(&#x27;impute_missing&#x27;,\n",
              "                                                                   SimpleImputer(strategy=&#x27;median&#x27;)),\n",
              "                                                                  (&#x27;standardize_num&#x27;,\n",
              "                                                                   StandardScaler())]),\n",
              "                                                  [&#x27;age&#x27;, &#x27;commuting_distance&#x27;,\n",
              "                                                   &#x27;education&#x27;,\n",
              "                                                   &#x27;satisfaction_with_environment&#x27;,\n",
              "                                                   &#x27;seniority_level&#x27;,\n",
              "                                                   &#x27;satisfaction_with_job&#x27;,\n",
              "                                                   &#x27;last_raise_pct&#x27;,\n",
              "                                                   &#x27;last_performance_rating&#x27;,\n",
              "                                                   &#x27;to...\n",
              "                                                   &#x27;years_in_current_job&#x27;,\n",
              "                                                   &#x27;years_since_last_promotion&#x27;,\n",
              "                                                   &#x27;years_with_current_supervisor&#x27;]),\n",
              "                                                 (&#x27;create_dummies&#x27;,\n",
              "                                                  Pipeline(steps=[(&#x27;impute_missing_cats&#x27;,\n",
              "                                                                   SimpleImputer(strategy=&#x27;most_frequent&#x27;)),\n",
              "                                                                  (&#x27;create_dummies_cats&#x27;,\n",
              "                                                                   OneHotEncoder(drop=&#x27;first&#x27;,\n",
              "                                                                                 handle_unknown=&#x27;ignore&#x27;))]),\n",
              "                                                  [&#x27;frequency_of_travel&#x27;,\n",
              "                                                   &#x27;department&#x27;, &#x27;gender&#x27;,\n",
              "                                                   &#x27;position&#x27;,\n",
              "                                                   &#x27;married_or_single&#x27;])])),\n",
              "                (&#x27;lm&#x27;, LogisticRegression())])</pre></div></div></div><div class=\"sk-serial\"><div class=\"sk-item sk-dashed-wrapped\"><div class=\"sk-label-container\"><div class=\"sk-label sk-toggleable\"><input class=\"sk-toggleable__control sk-hidden--visually\" id=\"sk-estimator-id-2\" type=\"checkbox\" ><label for=\"sk-estimator-id-2\" class=\"sk-toggleable__label sk-toggleable__label-arrow\">data_processing: ColumnTransformer</label><div class=\"sk-toggleable__content\"><pre>ColumnTransformer(transformers=[(&#x27;proc_numeric&#x27;,\n",
              "                                 Pipeline(steps=[(&#x27;impute_missing&#x27;,\n",
              "                                                  SimpleImputer(strategy=&#x27;median&#x27;)),\n",
              "                                                 (&#x27;standardize_num&#x27;,\n",
              "                                                  StandardScaler())]),\n",
              "                                 [&#x27;age&#x27;, &#x27;commuting_distance&#x27;, &#x27;education&#x27;,\n",
              "                                  &#x27;satisfaction_with_environment&#x27;,\n",
              "                                  &#x27;seniority_level&#x27;, &#x27;satisfaction_with_job&#x27;,\n",
              "                                  &#x27;last_raise_pct&#x27;, &#x27;last_performance_rating&#x27;,\n",
              "                                  &#x27;total_years_working&#x27;, &#x27;years_at_company&#x27;,\n",
              "                                  &#x27;years_in_current_job&#x27;,\n",
              "                                  &#x27;years_since_last_promotion&#x27;,\n",
              "                                  &#x27;years_with_current_supervisor&#x27;]),\n",
              "                                (&#x27;create_dummies&#x27;,\n",
              "                                 Pipeline(steps=[(&#x27;impute_missing_cats&#x27;,\n",
              "                                                  SimpleImputer(strategy=&#x27;most_frequent&#x27;)),\n",
              "                                                 (&#x27;create_dummies_cats&#x27;,\n",
              "                                                  OneHotEncoder(drop=&#x27;first&#x27;,\n",
              "                                                                handle_unknown=&#x27;ignore&#x27;))]),\n",
              "                                 [&#x27;frequency_of_travel&#x27;, &#x27;department&#x27;, &#x27;gender&#x27;,\n",
              "                                  &#x27;position&#x27;, &#x27;married_or_single&#x27;])])</pre></div></div></div><div class=\"sk-parallel\"><div class=\"sk-parallel-item\"><div class=\"sk-item\"><div class=\"sk-label-container\"><div class=\"sk-label sk-toggleable\"><input class=\"sk-toggleable__control sk-hidden--visually\" id=\"sk-estimator-id-3\" type=\"checkbox\" ><label for=\"sk-estimator-id-3\" class=\"sk-toggleable__label sk-toggleable__label-arrow\">proc_numeric</label><div class=\"sk-toggleable__content\"><pre>[&#x27;age&#x27;, &#x27;commuting_distance&#x27;, &#x27;education&#x27;, &#x27;satisfaction_with_environment&#x27;, &#x27;seniority_level&#x27;, &#x27;satisfaction_with_job&#x27;, &#x27;last_raise_pct&#x27;, &#x27;last_performance_rating&#x27;, &#x27;total_years_working&#x27;, &#x27;years_at_company&#x27;, &#x27;years_in_current_job&#x27;, &#x27;years_since_last_promotion&#x27;, &#x27;years_with_current_supervisor&#x27;]</pre></div></div></div><div class=\"sk-serial\"><div class=\"sk-item\"><div class=\"sk-serial\"><div class=\"sk-item\"><div class=\"sk-estimator sk-toggleable\"><input class=\"sk-toggleable__control sk-hidden--visually\" id=\"sk-estimator-id-4\" type=\"checkbox\" ><label for=\"sk-estimator-id-4\" class=\"sk-toggleable__label sk-toggleable__label-arrow\">SimpleImputer</label><div class=\"sk-toggleable__content\"><pre>SimpleImputer(strategy=&#x27;median&#x27;)</pre></div></div></div><div class=\"sk-item\"><div class=\"sk-estimator sk-toggleable\"><input class=\"sk-toggleable__control sk-hidden--visually\" id=\"sk-estimator-id-5\" type=\"checkbox\" ><label for=\"sk-estimator-id-5\" class=\"sk-toggleable__label sk-toggleable__label-arrow\">StandardScaler</label><div class=\"sk-toggleable__content\"><pre>StandardScaler()</pre></div></div></div></div></div></div></div></div><div class=\"sk-parallel-item\"><div class=\"sk-item\"><div class=\"sk-label-container\"><div class=\"sk-label sk-toggleable\"><input class=\"sk-toggleable__control sk-hidden--visually\" id=\"sk-estimator-id-6\" type=\"checkbox\" ><label for=\"sk-estimator-id-6\" class=\"sk-toggleable__label sk-toggleable__label-arrow\">create_dummies</label><div class=\"sk-toggleable__content\"><pre>[&#x27;frequency_of_travel&#x27;, &#x27;department&#x27;, &#x27;gender&#x27;, &#x27;position&#x27;, &#x27;married_or_single&#x27;]</pre></div></div></div><div class=\"sk-serial\"><div class=\"sk-item\"><div class=\"sk-serial\"><div class=\"sk-item\"><div class=\"sk-estimator sk-toggleable\"><input class=\"sk-toggleable__control sk-hidden--visually\" id=\"sk-estimator-id-7\" type=\"checkbox\" ><label for=\"sk-estimator-id-7\" class=\"sk-toggleable__label sk-toggleable__label-arrow\">SimpleImputer</label><div class=\"sk-toggleable__content\"><pre>SimpleImputer(strategy=&#x27;most_frequent&#x27;)</pre></div></div></div><div class=\"sk-item\"><div class=\"sk-estimator sk-toggleable\"><input class=\"sk-toggleable__control sk-hidden--visually\" id=\"sk-estimator-id-8\" type=\"checkbox\" ><label for=\"sk-estimator-id-8\" class=\"sk-toggleable__label sk-toggleable__label-arrow\">OneHotEncoder</label><div class=\"sk-toggleable__content\"><pre>OneHotEncoder(drop=&#x27;first&#x27;, handle_unknown=&#x27;ignore&#x27;)</pre></div></div></div></div></div></div></div></div></div></div><div class=\"sk-item\"><div class=\"sk-estimator sk-toggleable\"><input class=\"sk-toggleable__control sk-hidden--visually\" id=\"sk-estimator-id-9\" type=\"checkbox\" ><label for=\"sk-estimator-id-9\" class=\"sk-toggleable__label sk-toggleable__label-arrow\">LogisticRegression</label><div class=\"sk-toggleable__content\"><pre>LogisticRegression()</pre></div></div></div></div></div></div></div>"
            ]
          },
          "metadata": {},
          "execution_count": 21
        }
      ]
    },
    {
      "cell_type": "code",
      "source": [
        "y_pred = modeling_pipeline.predict(X_test)"
      ],
      "metadata": {
        "id": "VZpnXr-IZwjy"
      },
      "execution_count": 22,
      "outputs": []
    },
    {
      "cell_type": "code",
      "source": [
        "from sklearn.metrics import accuracy_score\n",
        "\n",
        "\n",
        "accuracy = (y_test == y_pred).mean()\n",
        "print(f'Accuracy on testing dataset: {accuracy:.3f}')\n"
      ],
      "metadata": {
        "colab": {
          "base_uri": "https://localhost:8080/"
        },
        "id": "w1cIqzOGaDct",
        "outputId": "dc6a2641-81cc-4b2c-ec38-3d712e3e1bfc"
      },
      "execution_count": 23,
      "outputs": [
        {
          "output_type": "stream",
          "name": "stdout",
          "text": [
            "Accuracy on testing dataset: 0.665\n"
          ]
        }
      ]
    },
    {
      "cell_type": "code",
      "source": [
        "y_pred_train = modeling_pipeline.predict(X_train)\n",
        "\n",
        "accuracy = accuracy_score(y_train, y_pred_train)\n",
        "print(f'Accuracy on training dataset: {accuracy:.3f}')"
      ],
      "metadata": {
        "colab": {
          "base_uri": "https://localhost:8080/"
        },
        "id": "Ulvg_I9xaRnQ",
        "outputId": "cd6e72bb-8305-40c5-c84e-4ed10dcdfc39"
      },
      "execution_count": 24,
      "outputs": [
        {
          "output_type": "stream",
          "name": "stdout",
          "text": [
            "Accuracy on training dataset: 0.713\n"
          ]
        }
      ]
    },
    {
      "cell_type": "markdown",
      "metadata": {
        "id": "Hbd0vMq-2nIE"
      },
      "source": [
        "Upon careful analysis, there does not seem to be any evidence of overfitting. While there may be a difference of 5-7%, this alone is not enough to definitively indicate overfitting."
      ]
    },
    {
      "cell_type": "markdown",
      "metadata": {
        "id": "-fMQcunK2nIE"
      },
      "source": [
        "# Question 7\n",
        "What would you recommend as potential next steps for continuing to develop and evaluate a model?"
      ]
    },
    {
      "cell_type": "markdown",
      "metadata": {
        "id": "3A3YgwEl2nIF"
      },
      "source": [
        "For further development of a model, we can prevent overfitting by using regularization techniques. Overfitting occurs when a model learns to fit the training data too closely and fails to generalize well to new data. Regularization helps to prevent this by adding a penalty term to the model's objective function, which discourages it from fitting the training data too closely."
      ]
    }
  ],
  "metadata": {
    "kernelspec": {
      "display_name": "Python 3.7.3 64-bit ('base': conda)",
      "language": "python",
      "name": "python37364bitbaseconda3e66817595a24f3b851fad3315f1c145"
    },
    "language_info": {
      "codemirror_mode": {
        "name": "ipython",
        "version": 3
      },
      "file_extension": ".py",
      "mimetype": "text/x-python",
      "name": "python",
      "nbconvert_exporter": "python",
      "pygments_lexer": "ipython3",
      "version": "3.7.3"
    },
    "colab": {
      "provenance": []
    }
  },
  "nbformat": 4,
  "nbformat_minor": 0
}