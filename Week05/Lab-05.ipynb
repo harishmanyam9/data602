{
  "cells": [
    {
      "cell_type": "markdown",
      "id": "318de7cb",
      "metadata": {
        "id": "318de7cb"
      },
      "source": [
        "# Week5 - Lab\n",
        "\n",
        "* Assign X, y\n",
        "* Train-test split\n",
        "* Visualize & speculate on training dataset\n",
        "* Train a logistic regression model\n",
        "* Evaluate the model, roc score\n",
        "* Explain findings"
      ]
    },
    {
      "cell_type": "code",
      "execution_count": 1,
      "id": "4089dbd4",
      "metadata": {
        "id": "4089dbd4"
      },
      "outputs": [],
      "source": [
        "import numpy as np\n",
        "import pandas as pd\n",
        "from sklearn.model_selection import train_test_split\n",
        "from sklearn.feature_extraction.text import CountVectorizer\n",
        "from sklearn.metrics import roc_auc_score, accuracy_score, f1_score, precision_score, recall_score\n",
        "from sklearn.decomposition import PCA\n",
        "import seaborn as sns\n",
        "from sklearn.linear_model import LogisticRegression\n",
        "\n",
        "# https://www.kaggle.com/datasets/muhammadtalharasool/simple-gender-classification?select=gender.csv\n",
        "df = pd.read_csv('https://raw.githubusercontent.com/msaricaumbc/DS_data/master/ds602/log_reg/gender.csv').iloc[:,:-1]\n",
        "df.columns = df.columns.str.strip()\n",
        "df.Gender = df.Gender.str.strip()"
      ]
    },
    {
      "cell_type": "code",
      "execution_count": 2,
      "id": "f7cda82e",
      "metadata": {
        "id": "f7cda82e",
        "colab": {
          "base_uri": "https://localhost:8080/",
          "height": 282
        },
        "outputId": "bf4bb76a-c1eb-4ca0-bf73-b892e4987f9e"
      },
      "outputs": [
        {
          "output_type": "execute_result",
          "data": {
            "text/plain": [
              "<AxesSubplot:>"
            ]
          },
          "metadata": {},
          "execution_count": 2
        },
        {
          "output_type": "display_data",
          "data": {
            "text/plain": [
              "<Figure size 432x288 with 1 Axes>"
            ],
            "image/png": "[encoded data removed]"
          },
          "metadata": {
            "needs_background": "light"
          }
        }
      ],
      "source": [
        "df.Gender.hist()"
      ]
    },
    {
      "cell_type": "code",
      "execution_count": 3,
      "id": "c6d3b99b",
      "metadata": {
        "id": "c6d3b99b",
        "colab": {
          "base_uri": "https://localhost:8080/",
          "height": 204
        },
        "outputId": "175de16e-f54d-40b0-94bb-3e8a681c77ec"
      },
      "outputs": [
        {
          "output_type": "execute_result",
          "data": {
            "text/plain": [
              "   Gender  Age  Height (cm)  Weight (kg)             Occupation  \\\n",
              "0    male   32          175           70      Software Engineer   \n",
              "1    male   25          182           85   Sales Representative   \n",
              "2  female   41          160           62                 Doctor   \n",
              "3    male   38          178           79                 Lawyer   \n",
              "4  female   29          165           58       Graphic Designer   \n",
              "\n",
              "       Education Level Marital Status  Income (USD) Favorite Color  \n",
              "0      Master's Degree        Married         75000           Blue  \n",
              "1    Bachelor's Degree         Single         45000          Green  \n",
              "2     Doctorate Degree        Married        120000         Purple  \n",
              "3    Bachelor's Degree         Single         90000            Red  \n",
              "4   Associate's Degree         Single         35000         Yellow  "
            ],
            "text/html": [
              "\n",
              "  <div id=\"df-aeae035c-6d90-46fb-b0de-ec6833e016d4\">\n",
              "    <div class=\"colab-df-container\">\n",
              "      <div>\n",
              "<style scoped>\n",
              "    .dataframe tbody tr th:only-of-type {\n",
              "        vertical-align: middle;\n",
              "    }\n",
              "\n",
              "    .dataframe tbody tr th {\n",
              "        vertical-align: top;\n",
              "    }\n",
              "\n",
              "    .dataframe thead th {\n",
              "        text-align: right;\n",
              "    }\n",
              "</style>\n",
              "<table border=\"1\" class=\"dataframe\">\n",
              "  <thead>\n",
              "    <tr style=\"text-align: right;\">\n",
              "      <th></th>\n",
              "      <th>Gender</th>\n",
              "      <th>Age</th>\n",
              "      <th>Height (cm)</th>\n",
              "      <th>Weight (kg)</th>\n",
              "      <th>Occupation</th>\n",
              "      <th>Education Level</th>\n",
              "      <th>Marital Status</th>\n",
              "      <th>Income (USD)</th>\n",
              "      <th>Favorite Color</th>\n",
              "    </tr>\n",
              "  </thead>\n",
              "  <tbody>\n",
              "    <tr>\n",
              "      <th>0</th>\n",
              "      <td>male</td>\n",
              "      <td>32</td>\n",
              "      <td>175</td>\n",
              "      <td>70</td>\n",
              "      <td>Software Engineer</td>\n",
              "      <td>Master's Degree</td>\n",
              "      <td>Married</td>\n",
              "      <td>75000</td>\n",
              "      <td>Blue</td>\n",
              "    </tr>\n",
              "    <tr>\n",
              "      <th>1</th>\n",
              "      <td>male</td>\n",
              "      <td>25</td>\n",
              "      <td>182</td>\n",
              "      <td>85</td>\n",
              "      <td>Sales Representative</td>\n",
              "      <td>Bachelor's Degree</td>\n",
              "      <td>Single</td>\n",
              "      <td>45000</td>\n",
              "      <td>Green</td>\n",
              "    </tr>\n",
              "    <tr>\n",
              "      <th>2</th>\n",
              "      <td>female</td>\n",
              "      <td>41</td>\n",
              "      <td>160</td>\n",
              "      <td>62</td>\n",
              "      <td>Doctor</td>\n",
              "      <td>Doctorate Degree</td>\n",
              "      <td>Married</td>\n",
              "      <td>120000</td>\n",
              "      <td>Purple</td>\n",
              "    </tr>\n",
              "    <tr>\n",
              "      <th>3</th>\n",
              "      <td>male</td>\n",
              "      <td>38</td>\n",
              "      <td>178</td>\n",
              "      <td>79</td>\n",
              "      <td>Lawyer</td>\n",
              "      <td>Bachelor's Degree</td>\n",
              "      <td>Single</td>\n",
              "      <td>90000</td>\n",
              "      <td>Red</td>\n",
              "    </tr>\n",
              "    <tr>\n",
              "      <th>4</th>\n",
              "      <td>female</td>\n",
              "      <td>29</td>\n",
              "      <td>165</td>\n",
              "      <td>58</td>\n",
              "      <td>Graphic Designer</td>\n",
              "      <td>Associate's Degree</td>\n",
              "      <td>Single</td>\n",
              "      <td>35000</td>\n",
              "      <td>Yellow</td>\n",
              "    </tr>\n",
              "  </tbody>\n",
              "</table>\n",
              "</div>\n",
              "      <button class=\"colab-df-convert\" onclick=\"convertToInteractive('df-aeae035c-6d90-46fb-b0de-ec6833e016d4')\"\n",
              "              title=\"Convert this dataframe to an interactive table.\"\n",
              "              style=\"display:none;\">\n",
              "        \n",
              "  <svg xmlns=\"http://www.w3.org/2000/svg\" height=\"24px\"viewBox=\"0 0 24 24\"\n",
              "       width=\"24px\">\n",
              "    <path d=\"M0 0h24v24H0V0z\" fill=\"none\"/>\n",
              "    <path d=\"M18.56 5.44l.94 2.06.94-2.06 2.06-.94-2.06-.94-.94-2.06-.94 2.06-2.06.94zm-11 1L8.5 8.5l.94-2.06 2.06-.94-2.06-.94L8.5 2.5l-.94 2.06-2.06.94zm10 10l.94 2.06.94-2.06 2.06-.94-2.06-.94-.94-2.06-.94 2.06-2.06.94z\"/><path d=\"M17.41 7.96l-1.37-1.37c-.4-.4-.92-.59-1.43-.59-.52 0-1.04.2-1.43.59L10.3 9.45l-7.72 7.72c-.78.78-.78 2.05 0 2.83L4 21.41c.39.39.9.59 1.41.59.51 0 1.02-.2 1.41-.59l7.78-7.78 2.81-2.81c.8-.78.8-2.07 0-2.86zM5.41 20L4 18.59l7.72-7.72 1.47 1.35L5.41 20z\"/>\n",
              "  </svg>\n",
              "      </button>\n",
              "      \n",
              "  <style>\n",
              "    .colab-df-container {\n",
              "      display:flex;\n",
              "      flex-wrap:wrap;\n",
              "      gap: 12px;\n",
              "    }\n",
              "\n",
              "    .colab-df-convert {\n",
              "      background-color: #E8F0FE;\n",
              "      border: none;\n",
              "      border-radius: 50%;\n",
              "      cursor: pointer;\n",
              "      display: none;\n",
              "      fill: #1967D2;\n",
              "      height: 32px;\n",
              "      padding: 0 0 0 0;\n",
              "      width: 32px;\n",
              "    }\n",
              "\n",
              "    .colab-df-convert:hover {\n",
              "      background-color: #E2EBFA;\n",
              "      box-shadow: 0px 1px 2px rgba(60, 64, 67, 0.3), 0px 1px 3px 1px rgba(60, 64, 67, 0.15);\n",
              "      fill: #174EA6;\n",
              "    }\n",
              "\n",
              "    [theme=dark] .colab-df-convert {\n",
              "      background-color: #3B4455;\n",
              "      fill: #D2E3FC;\n",
              "    }\n",
              "\n",
              "    [theme=dark] .colab-df-convert:hover {\n",
              "      background-color: #434B5C;\n",
              "      box-shadow: 0px 1px 3px 1px rgba(0, 0, 0, 0.15);\n",
              "      filter: drop-shadow(0px 1px 2px rgba(0, 0, 0, 0.3));\n",
              "      fill: #FFFFFF;\n",
              "    }\n",
              "  </style>\n",
              "\n",
              "      <script>\n",
              "        const buttonEl =\n",
              "          document.querySelector('#df-aeae035c-6d90-46fb-b0de-ec6833e016d4 button.colab-df-convert');\n",
              "        buttonEl.style.display =\n",
              "          google.colab.kernel.accessAllowed ? 'block' : 'none';\n",
              "\n",
              "        async function convertToInteractive(key) {\n",
              "          const element = document.querySelector('#df-aeae035c-6d90-46fb-b0de-ec6833e016d4');\n",
              "          const dataTable =\n",
              "            await google.colab.kernel.invokeFunction('convertToInteractive',\n",
              "                                                     [key], {});\n",
              "          if (!dataTable) return;\n",
              "\n",
              "          const docLinkHtml = 'Like what you see? Visit the ' +\n",
              "            '<a target=\"_blank\" href=https://colab.research.google.com/notebooks/data_table.ipynb>data table notebook</a>'\n",
              "            + ' to learn more about interactive tables.';\n",
              "          element.innerHTML = '';\n",
              "          dataTable['output_type'] = 'display_data';\n",
              "          await google.colab.output.renderOutput(dataTable, element);\n",
              "          const docLink = document.createElement('div');\n",
              "          docLink.innerHTML = docLinkHtml;\n",
              "          element.appendChild(docLink);\n",
              "        }\n",
              "      </script>\n",
              "    </div>\n",
              "  </div>\n",
              "  "
            ]
          },
          "metadata": {},
          "execution_count": 3
        }
      ],
      "source": [
        "df.head()"
      ]
    },
    {
      "cell_type": "code",
      "execution_count": 4,
      "id": "69f5a3ff",
      "metadata": {
        "id": "69f5a3ff"
      },
      "outputs": [],
      "source": [
        "# sns.pairplot(df, hue='Gender')"
      ]
    },
    {
      "cell_type": "code",
      "execution_count": 5,
      "id": "80083e3a",
      "metadata": {
        "id": "80083e3a"
      },
      "outputs": [],
      "source": [
        "#Reference for Strip: https://www.geeksforgeeks.org/python-string-strip/\n",
        "df.rename(columns = {'Height (cm)':'Height_Cm',\n",
        "                     'Weight (kg)':'Weight_Kg',\n",
        "                     'Education Level':'EducationLevel',\n",
        "                     'Income (USD)': 'Income_USD', \n",
        "                     'Favorite Color':'favouriteColor',\n",
        "                     'Marital Status':'maritalStatus'}, inplace = True)"
      ]
    },
    {
      "cell_type": "code",
      "source": [
        "df"
      ],
      "metadata": {
        "colab": {
          "base_uri": "https://localhost:8080/",
          "height": 419
        },
        "id": "rOvgZ9mjawIB",
        "outputId": "471d1c5e-440d-438b-a0e8-bf2d3f8215ff"
      },
      "id": "rOvgZ9mjawIB",
      "execution_count": 6,
      "outputs": [
        {
          "output_type": "execute_result",
          "data": {
            "text/plain": [
              "     Gender  Age  Height_Cm  Weight_Kg             Occupation  \\\n",
              "0      male   32        175         70      Software Engineer   \n",
              "1      male   25        182         85   Sales Representative   \n",
              "2    female   41        160         62                 Doctor   \n",
              "3      male   38        178         79                 Lawyer   \n",
              "4    female   29        165         58       Graphic Designer   \n",
              "..      ...  ...        ...        ...                    ...   \n",
              "126  female   32        170         64                  Nurse   \n",
              "127    male   38        176         79        Project Manager   \n",
              "128  female   27        162         55       Graphic Designer   \n",
              "129    male   33        175         77   Sales Representative   \n",
              "130  female   29        164         57     Software Developer   \n",
              "\n",
              "          EducationLevel maritalStatus  Income_USD favouriteColor  \n",
              "0        Master's Degree       Married       75000           Blue  \n",
              "1      Bachelor's Degree        Single       45000          Green  \n",
              "2       Doctorate Degree       Married      120000         Purple  \n",
              "3      Bachelor's Degree        Single       90000            Red  \n",
              "4     Associate's Degree        Single       35000         Yellow  \n",
              "..                   ...           ...         ...            ...  \n",
              "126   Associate's Degree        Single       60000         Orange  \n",
              "127    Bachelor's Degree       Married       90000          Black  \n",
              "128   Associate's Degree        Single       55000          Green  \n",
              "129    Bachelor's Degree       Married       80000         Yellow  \n",
              "130    Bachelor's Degree        Single       65000           Blue  \n",
              "\n",
              "[131 rows x 9 columns]"
            ],
            "text/html": [
              "\n",
              "  <div id=\"df-61ff5db9-b534-434e-a4ff-8e27033a6f4b\">\n",
              "    <div class=\"colab-df-container\">\n",
              "      <div>\n",
              "<style scoped>\n",
              "    .dataframe tbody tr th:only-of-type {\n",
              "        vertical-align: middle;\n",
              "    }\n",
              "\n",
              "    .dataframe tbody tr th {\n",
              "        vertical-align: top;\n",
              "    }\n",
              "\n",
              "    .dataframe thead th {\n",
              "        text-align: right;\n",
              "    }\n",
              "</style>\n",
              "<table border=\"1\" class=\"dataframe\">\n",
              "  <thead>\n",
              "    <tr style=\"text-align: right;\">\n",
              "      <th></th>\n",
              "      <th>Gender</th>\n",
              "      <th>Age</th>\n",
              "      <th>Height_Cm</th>\n",
              "      <th>Weight_Kg</th>\n",
              "      <th>Occupation</th>\n",
              "      <th>EducationLevel</th>\n",
              "      <th>maritalStatus</th>\n",
              "      <th>Income_USD</th>\n",
              "      <th>favouriteColor</th>\n",
              "    </tr>\n",
              "  </thead>\n",
              "  <tbody>\n",
              "    <tr>\n",
              "      <th>0</th>\n",
              "      <td>male</td>\n",
              "      <td>32</td>\n",
              "      <td>175</td>\n",
              "      <td>70</td>\n",
              "      <td>Software Engineer</td>\n",
              "      <td>Master's Degree</td>\n",
              "      <td>Married</td>\n",
              "      <td>75000</td>\n",
              "      <td>Blue</td>\n",
              "    </tr>\n",
              "    <tr>\n",
              "      <th>1</th>\n",
              "      <td>male</td>\n",
              "      <td>25</td>\n",
              "      <td>182</td>\n",
              "      <td>85</td>\n",
              "      <td>Sales Representative</td>\n",
              "      <td>Bachelor's Degree</td>\n",
              "      <td>Single</td>\n",
              "      <td>45000</td>\n",
              "      <td>Green</td>\n",
              "    </tr>\n",
              "    <tr>\n",
              "      <th>2</th>\n",
              "      <td>female</td>\n",
              "      <td>41</td>\n",
              "      <td>160</td>\n",
              "      <td>62</td>\n",
              "      <td>Doctor</td>\n",
              "      <td>Doctorate Degree</td>\n",
              "      <td>Married</td>\n",
              "      <td>120000</td>\n",
              "      <td>Purple</td>\n",
              "    </tr>\n",
              "    <tr>\n",
              "      <th>3</th>\n",
              "      <td>male</td>\n",
              "      <td>38</td>\n",
              "      <td>178</td>\n",
              "      <td>79</td>\n",
              "      <td>Lawyer</td>\n",
              "      <td>Bachelor's Degree</td>\n",
              "      <td>Single</td>\n",
              "      <td>90000</td>\n",
              "      <td>Red</td>\n",
              "    </tr>\n",
              "    <tr>\n",
              "      <th>4</th>\n",
              "      <td>female</td>\n",
              "      <td>29</td>\n",
              "      <td>165</td>\n",
              "      <td>58</td>\n",
              "      <td>Graphic Designer</td>\n",
              "      <td>Associate's Degree</td>\n",
              "      <td>Single</td>\n",
              "      <td>35000</td>\n",
              "      <td>Yellow</td>\n",
              "    </tr>\n",
              "    <tr>\n",
              "      <th>...</th>\n",
              "      <td>...</td>\n",
              "      <td>...</td>\n",
              "      <td>...</td>\n",
              "      <td>...</td>\n",
              "      <td>...</td>\n",
              "      <td>...</td>\n",
              "      <td>...</td>\n",
              "      <td>...</td>\n",
              "      <td>...</td>\n",
              "    </tr>\n",
              "    <tr>\n",
              "      <th>126</th>\n",
              "      <td>female</td>\n",
              "      <td>32</td>\n",
              "      <td>170</td>\n",
              "      <td>64</td>\n",
              "      <td>Nurse</td>\n",
              "      <td>Associate's Degree</td>\n",
              "      <td>Single</td>\n",
              "      <td>60000</td>\n",
              "      <td>Orange</td>\n",
              "    </tr>\n",
              "    <tr>\n",
              "      <th>127</th>\n",
              "      <td>male</td>\n",
              "      <td>38</td>\n",
              "      <td>176</td>\n",
              "      <td>79</td>\n",
              "      <td>Project Manager</td>\n",
              "      <td>Bachelor's Degree</td>\n",
              "      <td>Married</td>\n",
              "      <td>90000</td>\n",
              "      <td>Black</td>\n",
              "    </tr>\n",
              "    <tr>\n",
              "      <th>128</th>\n",
              "      <td>female</td>\n",
              "      <td>27</td>\n",
              "      <td>162</td>\n",
              "      <td>55</td>\n",
              "      <td>Graphic Designer</td>\n",
              "      <td>Associate's Degree</td>\n",
              "      <td>Single</td>\n",
              "      <td>55000</td>\n",
              "      <td>Green</td>\n",
              "    </tr>\n",
              "    <tr>\n",
              "      <th>129</th>\n",
              "      <td>male</td>\n",
              "      <td>33</td>\n",
              "      <td>175</td>\n",
              "      <td>77</td>\n",
              "      <td>Sales Representative</td>\n",
              "      <td>Bachelor's Degree</td>\n",
              "      <td>Married</td>\n",
              "      <td>80000</td>\n",
              "      <td>Yellow</td>\n",
              "    </tr>\n",
              "    <tr>\n",
              "      <th>130</th>\n",
              "      <td>female</td>\n",
              "      <td>29</td>\n",
              "      <td>164</td>\n",
              "      <td>57</td>\n",
              "      <td>Software Developer</td>\n",
              "      <td>Bachelor's Degree</td>\n",
              "      <td>Single</td>\n",
              "      <td>65000</td>\n",
              "      <td>Blue</td>\n",
              "    </tr>\n",
              "  </tbody>\n",
              "</table>\n",
              "<p>131 rows × 9 columns</p>\n",
              "</div>\n",
              "      <button class=\"colab-df-convert\" onclick=\"convertToInteractive('df-61ff5db9-b534-434e-a4ff-8e27033a6f4b')\"\n",
              "              title=\"Convert this dataframe to an interactive table.\"\n",
              "              style=\"display:none;\">\n",
              "        \n",
              "  <svg xmlns=\"http://www.w3.org/2000/svg\" height=\"24px\"viewBox=\"0 0 24 24\"\n",
              "       width=\"24px\">\n",
              "    <path d=\"M0 0h24v24H0V0z\" fill=\"none\"/>\n",
              "    <path d=\"M18.56 5.44l.94 2.06.94-2.06 2.06-.94-2.06-.94-.94-2.06-.94 2.06-2.06.94zm-11 1L8.5 8.5l.94-2.06 2.06-.94-2.06-.94L8.5 2.5l-.94 2.06-2.06.94zm10 10l.94 2.06.94-2.06 2.06-.94-2.06-.94-.94-2.06-.94 2.06-2.06.94z\"/><path d=\"M17.41 7.96l-1.37-1.37c-.4-.4-.92-.59-1.43-.59-.52 0-1.04.2-1.43.59L10.3 9.45l-7.72 7.72c-.78.78-.78 2.05 0 2.83L4 21.41c.39.39.9.59 1.41.59.51 0 1.02-.2 1.41-.59l7.78-7.78 2.81-2.81c.8-.78.8-2.07 0-2.86zM5.41 20L4 18.59l7.72-7.72 1.47 1.35L5.41 20z\"/>\n",
              "  </svg>\n",
              "      </button>\n",
              "      \n",
              "  <style>\n",
              "    .colab-df-container {\n",
              "      display:flex;\n",
              "      flex-wrap:wrap;\n",
              "      gap: 12px;\n",
              "    }\n",
              "\n",
              "    .colab-df-convert {\n",
              "      background-color: #E8F0FE;\n",
              "      border: none;\n",
              "      border-radius: 50%;\n",
              "      cursor: pointer;\n",
              "      display: none;\n",
              "      fill: #1967D2;\n",
              "      height: 32px;\n",
              "      padding: 0 0 0 0;\n",
              "      width: 32px;\n",
              "    }\n",
              "\n",
              "    .colab-df-convert:hover {\n",
              "      background-color: #E2EBFA;\n",
              "      box-shadow: 0px 1px 2px rgba(60, 64, 67, 0.3), 0px 1px 3px 1px rgba(60, 64, 67, 0.15);\n",
              "      fill: #174EA6;\n",
              "    }\n",
              "\n",
              "    [theme=dark] .colab-df-convert {\n",
              "      background-color: #3B4455;\n",
              "      fill: #D2E3FC;\n",
              "    }\n",
              "\n",
              "    [theme=dark] .colab-df-convert:hover {\n",
              "      background-color: #434B5C;\n",
              "      box-shadow: 0px 1px 3px 1px rgba(0, 0, 0, 0.15);\n",
              "      filter: drop-shadow(0px 1px 2px rgba(0, 0, 0, 0.3));\n",
              "      fill: #FFFFFF;\n",
              "    }\n",
              "  </style>\n",
              "\n",
              "      <script>\n",
              "        const buttonEl =\n",
              "          document.querySelector('#df-61ff5db9-b534-434e-a4ff-8e27033a6f4b button.colab-df-convert');\n",
              "        buttonEl.style.display =\n",
              "          google.colab.kernel.accessAllowed ? 'block' : 'none';\n",
              "\n",
              "        async function convertToInteractive(key) {\n",
              "          const element = document.querySelector('#df-61ff5db9-b534-434e-a4ff-8e27033a6f4b');\n",
              "          const dataTable =\n",
              "            await google.colab.kernel.invokeFunction('convertToInteractive',\n",
              "                                                     [key], {});\n",
              "          if (!dataTable) return;\n",
              "\n",
              "          const docLinkHtml = 'Like what you see? Visit the ' +\n",
              "            '<a target=\"_blank\" href=https://colab.research.google.com/notebooks/data_table.ipynb>data table notebook</a>'\n",
              "            + ' to learn more about interactive tables.';\n",
              "          element.innerHTML = '';\n",
              "          dataTable['output_type'] = 'display_data';\n",
              "          await google.colab.output.renderOutput(dataTable, element);\n",
              "          const docLink = document.createElement('div');\n",
              "          docLink.innerHTML = docLinkHtml;\n",
              "          element.appendChild(docLink);\n",
              "        }\n",
              "      </script>\n",
              "    </div>\n",
              "  </div>\n",
              "  "
            ]
          },
          "metadata": {},
          "execution_count": 6
        }
      ]
    },
    {
      "cell_type": "code",
      "source": [
        "df.maritalStatus.value_counts()"
      ],
      "metadata": {
        "colab": {
          "base_uri": "https://localhost:8080/"
        },
        "id": "sjK1wGzoawsY",
        "outputId": "61b56009-080b-45fd-a8f4-fc83857fb3ae"
      },
      "id": "sjK1wGzoawsY",
      "execution_count": 7,
      "outputs": [
        {
          "output_type": "execute_result",
          "data": {
            "text/plain": [
              "Married      41\n",
              "Single       38\n",
              " Married     24\n",
              " Single      21\n",
              " Divorced     4\n",
              " Widowed      2\n",
              "Divorced      1\n",
              "Name: maritalStatus, dtype: int64"
            ]
          },
          "metadata": {},
          "execution_count": 7
        }
      ]
    },
    {
      "cell_type": "code",
      "source": [
        "df.EducationLevel.value_counts()"
      ],
      "metadata": {
        "colab": {
          "base_uri": "https://localhost:8080/"
        },
        "id": "qEhPyupPkfx_",
        "outputId": "ca372ef0-561b-474c-e47b-ac421ba7d898"
      },
      "id": "qEhPyupPkfx_",
      "execution_count": 8,
      "outputs": [
        {
          "output_type": "execute_result",
          "data": {
            "text/plain": [
              "Bachelor's Degree      49\n",
              " Bachelor's Degree     29\n",
              "Associate's Degree     12\n",
              " Master's Degree       10\n",
              "Master's Degree        10\n",
              "Doctorate Degree        9\n",
              " Doctorate Degree       6\n",
              " Associate's Degree     6\n",
              "Name: EducationLevel, dtype: int64"
            ]
          },
          "metadata": {},
          "execution_count": 8
        }
      ]
    },
    {
      "cell_type": "code",
      "source": [
        "\n",
        "df.favouriteColor.value_counts()"
      ],
      "metadata": {
        "colab": {
          "base_uri": "https://localhost:8080/"
        },
        "id": "3_J_QelfkkXe",
        "outputId": "a59c4da9-d0f1-4c65-882d-b21cecacc30a"
      },
      "id": "3_J_QelfkkXe",
      "execution_count": 9,
      "outputs": [
        {
          "output_type": "execute_result",
          "data": {
            "text/plain": [
              "Blue       13\n",
              "Green      13\n",
              "Purple     11\n",
              "Red        11\n",
              "Yellow     10\n",
              "Orange      9\n",
              " Green      8\n",
              "Black       8\n",
              " Blue       8\n",
              " Pink       6\n",
              " Yellow     6\n",
              " Red        6\n",
              " Purple     6\n",
              " Grey       4\n",
              " Black      4\n",
              "Grey        4\n",
              " Orange     3\n",
              "Pink        1\n",
              "Name: favouriteColor, dtype: int64"
            ]
          },
          "metadata": {},
          "execution_count": 9
        }
      ]
    },
    {
      "cell_type": "code",
      "source": [
        "import seaborn as sns\n",
        "import matplotlib.pyplot as plt\n",
        "\n",
        "fig, ax = plt.subplots(figsize=(7,5))\n",
        "sns.heatmap(df.corr(), cmap='coolwarm', annot=True, ax=ax)\n",
        "ax.set_title('Correlation Matrix Heatmap')\n",
        "plt.show()\n"
      ],
      "metadata": {
        "colab": {
          "base_uri": "https://localhost:8080/",
          "height": 337
        },
        "id": "7mZ-EOD2ksGQ",
        "outputId": "3550818d-0c8d-4c71-9b9e-2a3dba1015b2"
      },
      "id": "7mZ-EOD2ksGQ",
      "execution_count": 10,
      "outputs": [
        {
          "output_type": "display_data",
          "data": {
            "text/plain": [
              "<Figure size 504x360 with 2 Axes>"
            ],
            "image/png": "[encoded data removed]"
          },
          "metadata": {
            "needs_background": "light"
          }
        }
      ]
    },
    {
      "cell_type": "code",
      "source": [
        "numerical_Vars = []\n",
        "categorical_Vars = []\n",
        "def splitting(data_frame):\n",
        "    for column in data_frame.columns:\n",
        "        if data_frame[column].dtype == 'int64' or data_frame[column].dtype == 'float64':\n",
        "            numerical_Vars.append(column)\n",
        "        elif data_frame[column].dtype == 'object':\n",
        "            categorical_Vars.append(column)\n",
        "\n",
        "    return print(\"The numerical features are:\", numerical_Vars ,\"\\n and The categorical features are:\", categorical_Vars)"
      ],
      "metadata": {
        "id": "llihSyKPk3um"
      },
      "id": "llihSyKPk3um",
      "execution_count": 11,
      "outputs": []
    },
    {
      "cell_type": "code",
      "source": [
        "splitting(df)"
      ],
      "metadata": {
        "colab": {
          "base_uri": "https://localhost:8080/"
        },
        "id": "pBmEs6fZlC5l",
        "outputId": "b9c741c5-311b-4e54-a824-f13cd2e563cf"
      },
      "id": "pBmEs6fZlC5l",
      "execution_count": 12,
      "outputs": [
        {
          "output_type": "stream",
          "name": "stdout",
          "text": [
            "The numerical features are: ['Age', 'Height_Cm', 'Weight_Kg', 'Income_USD'] \n",
            " and The categorical features are: ['Gender', 'Occupation', 'EducationLevel', 'maritalStatus', 'favouriteColor']\n"
          ]
        }
      ]
    },
    {
      "cell_type": "code",
      "source": [
        "for col in categorical_Vars:\n",
        "    unique_vals = df[col].unique()\n",
        "    print(f\"{col}\\t{len(unique_vals)}\")\n",
        "    print(unique_vals)"
      ],
      "metadata": {
        "colab": {
          "base_uri": "https://localhost:8080/"
        },
        "id": "N5LhNJOglGsq",
        "outputId": "b9efd6b0-877e-4476-e769-0942be1e41c7"
      },
      "id": "N5LhNJOglGsq",
      "execution_count": 13,
      "outputs": [
        {
          "output_type": "stream",
          "name": "stdout",
          "text": [
            "Gender\t2\n",
            "['male' 'female']\n",
            "Occupation\t35\n",
            "[' Software Engineer' ' Sales Representative' ' Doctor' ' Lawyer'\n",
            " ' Graphic Designer' ' Business Consultant' ' Marketing Specialist' ' CEO'\n",
            " ' Project Manager' ' Engineer' ' Accountant' ' Architect' ' Nurse'\n",
            " ' Analyst' ' Teacher' ' IT Manager' ' Writer' ' Business Analyst'\n",
            " 'Engineer' 'Teacher' 'Doctor' 'Graphic Designer' 'IT Manager'\n",
            " 'Sales Representative' 'Lawyer' 'Marketing Specialist' 'Project Manager'\n",
            " 'Writer' 'Architect' 'Nurse' 'Business Analyst' 'Accountant' 'CEO'\n",
            " 'Analyst' 'Software Developer']\n",
            "EducationLevel\t8\n",
            "[\" Master's Degree\" \" Bachelor's Degree\" ' Doctorate Degree'\n",
            " \" Associate's Degree\" \"Master's Degree\" \"Bachelor's Degree\"\n",
            " 'Doctorate Degree' \"Associate's Degree\"]\n",
            "maritalStatus\t7\n",
            "[' Married' ' Single' ' Divorced' ' Widowed' 'Single' 'Married' 'Divorced']\n",
            "favouriteColor\t18\n",
            "[' Blue' ' Green' ' Purple' ' Red' ' Yellow' ' Black' ' Pink' ' Orange'\n",
            " ' Grey' 'Blue' 'Green' 'Red' 'Orange' 'Purple' 'Yellow' 'Black' 'Grey'\n",
            " 'Pink']\n"
          ]
        }
      ]
    },
    {
      "cell_type": "code",
      "source": [
        "y = df['Gender']\n",
        "X = df.drop('Gender', axis=1)\n",
        "\n",
        "X_train, X_test, y_train, y_test = train_test_split(X, y, test_size=0.2, random_state=124)\n",
        "\n",
        "print('Training examples: {:,}'.format(X_train.shape[0]))\n",
        "print('Test examples: {:,}'.format(X_test.shape[0]))\n"
      ],
      "metadata": {
        "colab": {
          "base_uri": "https://localhost:8080/"
        },
        "id": "xNRqxQ9PlNAo",
        "outputId": "56df0af4-1f6d-4240-ba26-03091a900cbc"
      },
      "id": "xNRqxQ9PlNAo",
      "execution_count": 14,
      "outputs": [
        {
          "output_type": "stream",
          "name": "stdout",
          "text": [
            "Training examples: 104\n",
            "Test examples: 27\n"
          ]
        }
      ]
    },
    {
      "cell_type": "code",
      "source": [
        "from sklearn.pipeline import Pipeline\n",
        "from sklearn.compose import ColumnTransformer\n",
        "from sklearn.impute import SimpleImputer\n",
        "from sklearn.preprocessing import OneHotEncoder\n",
        "from sklearn.preprocessing import StandardScaler\n",
        "\n",
        "\n",
        "num_pipeline = Pipeline([('impute_missing', SimpleImputer(strategy='median')),\n",
        "                           ('standardize_num', StandardScaler())\n",
        "                        ])\n",
        "\n",
        "cat_pipeline = Pipeline([('impute_missing_cats', SimpleImputer(strategy='most_frequent')),\n",
        "                          ('create_dummies_cats', OneHotEncoder(handle_unknown='ignore', drop='first'))])"
      ],
      "metadata": {
        "id": "A8vySL29lo-u"
      },
      "id": "A8vySL29lo-u",
      "execution_count": 15,
      "outputs": []
    },
    {
      "cell_type": "code",
      "source": [
        "processing_pipeline = ColumnTransformer(transformers=[('proc_numeric', num_pipeline, numerical_Vars)])"
      ],
      "metadata": {
        "id": "n8VlvmzUmNEz"
      },
      "id": "n8VlvmzUmNEz",
      "execution_count": 16,
      "outputs": []
    },
    {
      "cell_type": "code",
      "source": [
        "processing_pipeline = ColumnTransformer(transformers=[('proc_numeric', num_pipeline, numerical_Vars),\n",
        "                                                      ('create_dummies', cat_pipeline, categorical_Vars[1:])])"
      ],
      "metadata": {
        "id": "pjUEcS9sltkX"
      },
      "id": "pjUEcS9sltkX",
      "execution_count": 17,
      "outputs": []
    },
    {
      "cell_type": "code",
      "source": [
        "from sklearn.linear_model import LogisticRegression\n",
        "\n",
        "modeling_pipeline = Pipeline([('data_processing', processing_pipeline), \n",
        "                              ('lm', LogisticRegression())\n",
        "                             ])\n",
        "modeling_pipeline.fit(X_train, y_train)"
      ],
      "metadata": {
        "colab": {
          "base_uri": "https://localhost:8080/",
          "height": 222
        },
        "id": "3UA7d5mMmUBn",
        "outputId": "a783f59f-b1e9-4bcc-f56d-edf772b7f7f8"
      },
      "id": "3UA7d5mMmUBn",
      "execution_count": 18,
      "outputs": [
        {
          "output_type": "execute_result",
          "data": {
            "text/plain": [
              "Pipeline(steps=[('data_processing',\n",
              "                 ColumnTransformer(transformers=[('proc_numeric',\n",
              "                                                  Pipeline(steps=[('impute_missing',\n",
              "                                                                   SimpleImputer(strategy='median')),\n",
              "                                                                  ('standardize_num',\n",
              "                                                                   StandardScaler())]),\n",
              "                                                  ['Age', 'Height_Cm',\n",
              "                                                   'Weight_Kg', 'Income_USD']),\n",
              "                                                 ('create_dummies',\n",
              "                                                  Pipeline(steps=[('impute_missing_cats',\n",
              "                                                                   SimpleImputer(strategy='most_frequent')),\n",
              "                                                                  ('create_dummies_cats',\n",
              "                                                                   OneHotEncoder(drop='first',\n",
              "                                                                                 handle_unknown='ignore'))]),\n",
              "                                                  ['Occupation',\n",
              "                                                   'EducationLevel',\n",
              "                                                   'maritalStatus',\n",
              "                                                   'favouriteColor'])])),\n",
              "                ('lm', LogisticRegression())])"
            ],
            "text/html": [
              "<style>#sk-container-id-1 {color: black;background-color: white;}#sk-container-id-1 pre{padding: 0;}#sk-container-id-1 div.sk-toggleable {background-color: white;}#sk-container-id-1 label.sk-toggleable__label {cursor: pointer;display: block;width: 100%;margin-bottom: 0;padding: 0.3em;box-sizing: border-box;text-align: center;}#sk-container-id-1 label.sk-toggleable__label-arrow:before {content: \"▸\";float: left;margin-right: 0.25em;color: #696969;}#sk-container-id-1 label.sk-toggleable__label-arrow:hover:before {color: black;}#sk-container-id-1 div.sk-estimator:hover label.sk-toggleable__label-arrow:before {color: black;}#sk-container-id-1 div.sk-toggleable__content {max-height: 0;max-width: 0;overflow: hidden;text-align: left;background-color: #f0f8ff;}#sk-container-id-1 div.sk-toggleable__content pre {margin: 0.2em;color: black;border-radius: 0.25em;background-color: #f0f8ff;}#sk-container-id-1 input.sk-toggleable__control:checked~div.sk-toggleable__content {max-height: 200px;max-width: 100%;overflow: auto;}#sk-container-id-1 input.sk-toggleable__control:checked~label.sk-toggleable__label-arrow:before {content: \"▾\";}#sk-container-id-1 div.sk-estimator input.sk-toggleable__control:checked~label.sk-toggleable__label {background-color: #d4ebff;}#sk-container-id-1 div.sk-label input.sk-toggleable__control:checked~label.sk-toggleable__label {background-color: #d4ebff;}#sk-container-id-1 input.sk-hidden--visually {border: 0;clip: rect(1px 1px 1px 1px);clip: rect(1px, 1px, 1px, 1px);height: 1px;margin: -1px;overflow: hidden;padding: 0;position: absolute;width: 1px;}#sk-container-id-1 div.sk-estimator {font-family: monospace;background-color: #f0f8ff;border: 1px dotted black;border-radius: 0.25em;box-sizing: border-box;margin-bottom: 0.5em;}#sk-container-id-1 div.sk-estimator:hover {background-color: #d4ebff;}#sk-container-id-1 div.sk-parallel-item::after {content: \"\";width: 100%;border-bottom: 1px solid gray;flex-grow: 1;}#sk-container-id-1 div.sk-label:hover label.sk-toggleable__label {background-color: #d4ebff;}#sk-container-id-1 div.sk-serial::before {content: \"\";position: absolute;border-left: 1px solid gray;box-sizing: border-box;top: 0;bottom: 0;left: 50%;z-index: 0;}#sk-container-id-1 div.sk-serial {display: flex;flex-direction: column;align-items: center;background-color: white;padding-right: 0.2em;padding-left: 0.2em;position: relative;}#sk-container-id-1 div.sk-item {position: relative;z-index: 1;}#sk-container-id-1 div.sk-parallel {display: flex;align-items: stretch;justify-content: center;background-color: white;position: relative;}#sk-container-id-1 div.sk-item::before, #sk-container-id-1 div.sk-parallel-item::before {content: \"\";position: absolute;border-left: 1px solid gray;box-sizing: border-box;top: 0;bottom: 0;left: 50%;z-index: -1;}#sk-container-id-1 div.sk-parallel-item {display: flex;flex-direction: column;z-index: 1;position: relative;background-color: white;}#sk-container-id-1 div.sk-parallel-item:first-child::after {align-self: flex-end;width: 50%;}#sk-container-id-1 div.sk-parallel-item:last-child::after {align-self: flex-start;width: 50%;}#sk-container-id-1 div.sk-parallel-item:only-child::after {width: 0;}#sk-container-id-1 div.sk-dashed-wrapped {border: 1px dashed gray;margin: 0 0.4em 0.5em 0.4em;box-sizing: border-box;padding-bottom: 0.4em;background-color: white;}#sk-container-id-1 div.sk-label label {font-family: monospace;font-weight: bold;display: inline-block;line-height: 1.2em;}#sk-container-id-1 div.sk-label-container {text-align: center;}#sk-container-id-1 div.sk-container {/* jupyter's `normalize.less` sets `[hidden] { display: none; }` but bootstrap.min.css set `[hidden] { display: none !important; }` so we also need the `!important` here to be able to override the default hidden behavior on the sphinx rendered scikit-learn.org. See: https://github.com/scikit-learn/scikit-learn/issues/21755 */display: inline-block !important;position: relative;}#sk-container-id-1 div.sk-text-repr-fallback {display: none;}</style><div id=\"sk-container-id-1\" class=\"sk-top-container\"><div class=\"sk-text-repr-fallback\"><pre>Pipeline(steps=[(&#x27;data_processing&#x27;,\n",
              "                 ColumnTransformer(transformers=[(&#x27;proc_numeric&#x27;,\n",
              "                                                  Pipeline(steps=[(&#x27;impute_missing&#x27;,\n",
              "                                                                   SimpleImputer(strategy=&#x27;median&#x27;)),\n",
              "                                                                  (&#x27;standardize_num&#x27;,\n",
              "                                                                   StandardScaler())]),\n",
              "                                                  [&#x27;Age&#x27;, &#x27;Height_Cm&#x27;,\n",
              "                                                   &#x27;Weight_Kg&#x27;, &#x27;Income_USD&#x27;]),\n",
              "                                                 (&#x27;create_dummies&#x27;,\n",
              "                                                  Pipeline(steps=[(&#x27;impute_missing_cats&#x27;,\n",
              "                                                                   SimpleImputer(strategy=&#x27;most_frequent&#x27;)),\n",
              "                                                                  (&#x27;create_dummies_cats&#x27;,\n",
              "                                                                   OneHotEncoder(drop=&#x27;first&#x27;,\n",
              "                                                                                 handle_unknown=&#x27;ignore&#x27;))]),\n",
              "                                                  [&#x27;Occupation&#x27;,\n",
              "                                                   &#x27;EducationLevel&#x27;,\n",
              "                                                   &#x27;maritalStatus&#x27;,\n",
              "                                                   &#x27;favouriteColor&#x27;])])),\n",
              "                (&#x27;lm&#x27;, LogisticRegression())])</pre><b>In a Jupyter environment, please rerun this cell to show the HTML representation or trust the notebook. <br />On GitHub, the HTML representation is unable to render, please try loading this page with nbviewer.org.</b></div><div class=\"sk-container\" hidden><div class=\"sk-item sk-dashed-wrapped\"><div class=\"sk-label-container\"><div class=\"sk-label sk-toggleable\"><input class=\"sk-toggleable__control sk-hidden--visually\" id=\"sk-estimator-id-1\" type=\"checkbox\" ><label for=\"sk-estimator-id-1\" class=\"sk-toggleable__label sk-toggleable__label-arrow\">Pipeline</label><div class=\"sk-toggleable__content\"><pre>Pipeline(steps=[(&#x27;data_processing&#x27;,\n",
              "                 ColumnTransformer(transformers=[(&#x27;proc_numeric&#x27;,\n",
              "                                                  Pipeline(steps=[(&#x27;impute_missing&#x27;,\n",
              "                                                                   SimpleImputer(strategy=&#x27;median&#x27;)),\n",
              "                                                                  (&#x27;standardize_num&#x27;,\n",
              "                                                                   StandardScaler())]),\n",
              "                                                  [&#x27;Age&#x27;, &#x27;Height_Cm&#x27;,\n",
              "                                                   &#x27;Weight_Kg&#x27;, &#x27;Income_USD&#x27;]),\n",
              "                                                 (&#x27;create_dummies&#x27;,\n",
              "                                                  Pipeline(steps=[(&#x27;impute_missing_cats&#x27;,\n",
              "                                                                   SimpleImputer(strategy=&#x27;most_frequent&#x27;)),\n",
              "                                                                  (&#x27;create_dummies_cats&#x27;,\n",
              "                                                                   OneHotEncoder(drop=&#x27;first&#x27;,\n",
              "                                                                                 handle_unknown=&#x27;ignore&#x27;))]),\n",
              "                                                  [&#x27;Occupation&#x27;,\n",
              "                                                   &#x27;EducationLevel&#x27;,\n",
              "                                                   &#x27;maritalStatus&#x27;,\n",
              "                                                   &#x27;favouriteColor&#x27;])])),\n",
              "                (&#x27;lm&#x27;, LogisticRegression())])</pre></div></div></div><div class=\"sk-serial\"><div class=\"sk-item sk-dashed-wrapped\"><div class=\"sk-label-container\"><div class=\"sk-label sk-toggleable\"><input class=\"sk-toggleable__control sk-hidden--visually\" id=\"sk-estimator-id-2\" type=\"checkbox\" ><label for=\"sk-estimator-id-2\" class=\"sk-toggleable__label sk-toggleable__label-arrow\">data_processing: ColumnTransformer</label><div class=\"sk-toggleable__content\"><pre>ColumnTransformer(transformers=[(&#x27;proc_numeric&#x27;,\n",
              "                                 Pipeline(steps=[(&#x27;impute_missing&#x27;,\n",
              "                                                  SimpleImputer(strategy=&#x27;median&#x27;)),\n",
              "                                                 (&#x27;standardize_num&#x27;,\n",
              "                                                  StandardScaler())]),\n",
              "                                 [&#x27;Age&#x27;, &#x27;Height_Cm&#x27;, &#x27;Weight_Kg&#x27;,\n",
              "                                  &#x27;Income_USD&#x27;]),\n",
              "                                (&#x27;create_dummies&#x27;,\n",
              "                                 Pipeline(steps=[(&#x27;impute_missing_cats&#x27;,\n",
              "                                                  SimpleImputer(strategy=&#x27;most_frequent&#x27;)),\n",
              "                                                 (&#x27;create_dummies_cats&#x27;,\n",
              "                                                  OneHotEncoder(drop=&#x27;first&#x27;,\n",
              "                                                                handle_unknown=&#x27;ignore&#x27;))]),\n",
              "                                 [&#x27;Occupation&#x27;, &#x27;EducationLevel&#x27;,\n",
              "                                  &#x27;maritalStatus&#x27;, &#x27;favouriteColor&#x27;])])</pre></div></div></div><div class=\"sk-parallel\"><div class=\"sk-parallel-item\"><div class=\"sk-item\"><div class=\"sk-label-container\"><div class=\"sk-label sk-toggleable\"><input class=\"sk-toggleable__control sk-hidden--visually\" id=\"sk-estimator-id-3\" type=\"checkbox\" ><label for=\"sk-estimator-id-3\" class=\"sk-toggleable__label sk-toggleable__label-arrow\">proc_numeric</label><div class=\"sk-toggleable__content\"><pre>[&#x27;Age&#x27;, &#x27;Height_Cm&#x27;, &#x27;Weight_Kg&#x27;, &#x27;Income_USD&#x27;]</pre></div></div></div><div class=\"sk-serial\"><div class=\"sk-item\"><div class=\"sk-serial\"><div class=\"sk-item\"><div class=\"sk-estimator sk-toggleable\"><input class=\"sk-toggleable__control sk-hidden--visually\" id=\"sk-estimator-id-4\" type=\"checkbox\" ><label for=\"sk-estimator-id-4\" class=\"sk-toggleable__label sk-toggleable__label-arrow\">SimpleImputer</label><div class=\"sk-toggleable__content\"><pre>SimpleImputer(strategy=&#x27;median&#x27;)</pre></div></div></div><div class=\"sk-item\"><div class=\"sk-estimator sk-toggleable\"><input class=\"sk-toggleable__control sk-hidden--visually\" id=\"sk-estimator-id-5\" type=\"checkbox\" ><label for=\"sk-estimator-id-5\" class=\"sk-toggleable__label sk-toggleable__label-arrow\">StandardScaler</label><div class=\"sk-toggleable__content\"><pre>StandardScaler()</pre></div></div></div></div></div></div></div></div><div class=\"sk-parallel-item\"><div class=\"sk-item\"><div class=\"sk-label-container\"><div class=\"sk-label sk-toggleable\"><input class=\"sk-toggleable__control sk-hidden--visually\" id=\"sk-estimator-id-6\" type=\"checkbox\" ><label for=\"sk-estimator-id-6\" class=\"sk-toggleable__label sk-toggleable__label-arrow\">create_dummies</label><div class=\"sk-toggleable__content\"><pre>[&#x27;Occupation&#x27;, &#x27;EducationLevel&#x27;, &#x27;maritalStatus&#x27;, &#x27;favouriteColor&#x27;]</pre></div></div></div><div class=\"sk-serial\"><div class=\"sk-item\"><div class=\"sk-serial\"><div class=\"sk-item\"><div class=\"sk-estimator sk-toggleable\"><input class=\"sk-toggleable__control sk-hidden--visually\" id=\"sk-estimator-id-7\" type=\"checkbox\" ><label for=\"sk-estimator-id-7\" class=\"sk-toggleable__label sk-toggleable__label-arrow\">SimpleImputer</label><div class=\"sk-toggleable__content\"><pre>SimpleImputer(strategy=&#x27;most_frequent&#x27;)</pre></div></div></div><div class=\"sk-item\"><div class=\"sk-estimator sk-toggleable\"><input class=\"sk-toggleable__control sk-hidden--visually\" id=\"sk-estimator-id-8\" type=\"checkbox\" ><label for=\"sk-estimator-id-8\" class=\"sk-toggleable__label sk-toggleable__label-arrow\">OneHotEncoder</label><div class=\"sk-toggleable__content\"><pre>OneHotEncoder(drop=&#x27;first&#x27;, handle_unknown=&#x27;ignore&#x27;)</pre></div></div></div></div></div></div></div></div></div></div><div class=\"sk-item\"><div class=\"sk-estimator sk-toggleable\"><input class=\"sk-toggleable__control sk-hidden--visually\" id=\"sk-estimator-id-9\" type=\"checkbox\" ><label for=\"sk-estimator-id-9\" class=\"sk-toggleable__label sk-toggleable__label-arrow\">LogisticRegression</label><div class=\"sk-toggleable__content\"><pre>LogisticRegression()</pre></div></div></div></div></div></div></div>"
            ]
          },
          "metadata": {},
          "execution_count": 18
        }
      ]
    },
    {
      "cell_type": "code",
      "source": [
        "y_pred = modeling_pipeline.predict(X_test)\n",
        "    \n"
      ],
      "metadata": {
        "id": "_oybxQ8XmcsL"
      },
      "id": "_oybxQ8XmcsL",
      "execution_count": 19,
      "outputs": []
    },
    {
      "cell_type": "code",
      "source": [
        "from sklearn.metrics import accuracy_score, classification_report\n",
        "accuracy_score(y_test, y_pred)"
      ],
      "metadata": {
        "colab": {
          "base_uri": "https://localhost:8080/"
        },
        "id": "TIUS7nvknRXr",
        "outputId": "40d42d04-db89-4fc9-8259-aad212185dd3"
      },
      "id": "TIUS7nvknRXr",
      "execution_count": 20,
      "outputs": [
        {
          "output_type": "execute_result",
          "data": {
            "text/plain": [
              "1.0"
            ]
          },
          "metadata": {},
          "execution_count": 20
        }
      ]
    },
    {
      "cell_type": "code",
      "source": [
        "print(classification_report(y_test, y_pred))"
      ],
      "metadata": {
        "colab": {
          "base_uri": "https://localhost:8080/"
        },
        "id": "dww_SnaWl0PW",
        "outputId": "1a082101-bb42-455f-a041-187103c49a4f"
      },
      "id": "dww_SnaWl0PW",
      "execution_count": 21,
      "outputs": [
        {
          "output_type": "stream",
          "name": "stdout",
          "text": [
            "              precision    recall  f1-score   support\n",
            "\n",
            "      female       1.00      1.00      1.00        11\n",
            "        male       1.00      1.00      1.00        16\n",
            "\n",
            "    accuracy                           1.00        27\n",
            "   macro avg       1.00      1.00      1.00        27\n",
            "weighted avg       1.00      1.00      1.00        27\n",
            "\n"
          ]
        }
      ]
    }
  ],
  "metadata": {
    "kernelspec": {
      "display_name": "Python 3",
      "language": "python",
      "name": "python3"
    },
    "language_info": {
      "codemirror_mode": {
        "name": "ipython",
        "version": 3
      },
      "file_extension": ".py",
      "mimetype": "text/x-python",
      "name": "python",
      "nbconvert_exporter": "python",
      "pygments_lexer": "ipython3",
      "version": "3.8.8"
    },
    "toc": {
      "base_numbering": 1,
      "nav_menu": {},
      "number_sections": false,
      "sideBar": true,
      "skip_h1_title": false,
      "title_cell": "Table of Contents",
      "title_sidebar": "Contents",
      "toc_cell": false,
      "toc_position": {},
      "toc_section_display": true,
      "toc_window_display": false
    },
    "colab": {
      "provenance": []
    }
  },
  "nbformat": 4,
  "nbformat_minor": 5
}