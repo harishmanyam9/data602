{
  "cells": [
    {
      "cell_type": "markdown",
      "metadata": {
        "id": "8EYFpVZ536A-"
      },
      "source": [
        "# Homework 4\n",
        "\n",
        "- Execute the below code, then answer the numbered questions."
      ]
    },
    {
      "cell_type": "code",
      "execution_count": 2,
      "metadata": {
        "id": "Lg2f3SkU36BB",
        "outputId": "18e0599b-6ba3-4f7a-d1fa-65768fe5883b",
        "colab": {
          "base_uri": "https://localhost:8080/"
        }
      },
      "outputs": [
        {
          "output_type": "stream",
          "name": "stdout",
          "text": [
            "<class 'pandas.core.frame.DataFrame'>\n",
            "RangeIndex: 9055 entries, 0 to 9054\n",
            "Data columns (total 7 columns):\n",
            " #   Column         Non-Null Count  Dtype  \n",
            "---  ------         --------------  -----  \n",
            " 0   make           8164 non-null   object \n",
            " 1   transmission   8106 non-null   object \n",
            " 2   state          8152 non-null   object \n",
            " 3   condition      8173 non-null   float64\n",
            " 4   odometer       8178 non-null   float64\n",
            " 5   auction_value  8107 non-null   float64\n",
            " 6   selling_price  9055 non-null   float64\n",
            "dtypes: float64(4), object(3)\n",
            "memory usage: 495.3+ KB\n"
          ]
        }
      ],
      "source": [
        "import pandas as pd\n",
        "\n",
        "df = pd.read_csv('https://raw.githubusercontent.com/msaricaumbc/DS_data/master/ds602/regression/car-reg-data.csv')\n",
        "df.info()"
      ]
    },
    {
      "cell_type": "code",
      "execution_count": 3,
      "metadata": {
        "id": "f6zaGQL336BD",
        "outputId": "7a8f643c-a70a-4418-9c72-183c5b34c143",
        "colab": {
          "base_uri": "https://localhost:8080/"
        }
      },
      "outputs": [
        {
          "output_type": "stream",
          "name": "stdout",
          "text": [
            "Records in training data: 7,244\n",
            "Records in test data: 1,811\n",
            "\n",
            "Features:\n",
            "make\n",
            "transmission\n",
            "state\n",
            "condition\n",
            "odometer\n",
            "auction_value\n"
          ]
        }
      ],
      "source": [
        "from sklearn.model_selection import train_test_split\n",
        "features = [x for x in df.columns if x != 'selling_price']\n",
        "\n",
        "X = df[features]\n",
        "y = df['selling_price']\n",
        "\n",
        "X_train, X_test, y_train, y_test = train_test_split(X, y, test_size=0.2, random_state=100)\n",
        "\n",
        "print(f'Records in training data: {X_train.shape[0]:,}')\n",
        "print(f'Records in test data: {X_test.shape[0]:,}')\n",
        "print('\\nFeatures:')\n",
        "print(*X_train.columns, sep='\\n')"
      ]
    },
    {
      "cell_type": "markdown",
      "metadata": {
        "id": "os1hiRWN36BD"
      },
      "source": [
        "## Question 1: Split the features into two lists, one for the numerical features and another for the categorical features."
      ]
    },
    {
      "cell_type": "code",
      "source": [
        "X_train.info()"
      ],
      "metadata": {
        "colab": {
          "base_uri": "https://localhost:8080/"
        },
        "id": "ULNJQ7WG6DYI",
        "outputId": "0a8151bb-ae3b-481f-f584-4c11199c5d35"
      },
      "execution_count": 4,
      "outputs": [
        {
          "output_type": "stream",
          "name": "stdout",
          "text": [
            "<class 'pandas.core.frame.DataFrame'>\n",
            "Int64Index: 7244 entries, 7821 to 5640\n",
            "Data columns (total 6 columns):\n",
            " #   Column         Non-Null Count  Dtype  \n",
            "---  ------         --------------  -----  \n",
            " 0   make           6515 non-null   object \n",
            " 1   transmission   6486 non-null   object \n",
            " 2   state          6541 non-null   object \n",
            " 3   condition      6558 non-null   float64\n",
            " 4   odometer       6541 non-null   float64\n",
            " 5   auction_value  6473 non-null   float64\n",
            "dtypes: float64(3), object(3)\n",
            "memory usage: 396.2+ KB\n"
          ]
        }
      ]
    },
    {
      "cell_type": "code",
      "source": [
        "numerical_train = []\n",
        "categorical_train = []\n",
        "def splitting(data_frame):\n",
        "    for column in X_train.columns:\n",
        "        if X_train[column].dtype == 'int64' or X_train[column].dtype == 'float64':\n",
        "            numerical_train.append(column)\n",
        "        elif X_train[column].dtype == 'object':\n",
        "            categorical_train.append(column)\n",
        "\n",
        "    return print(\"The numerical features are:\", numerical_train ,\"\\n and The categorical features are:\", categorical_train)"
      ],
      "metadata": {
        "id": "QKDfH73C6-fS"
      },
      "execution_count": 5,
      "outputs": []
    },
    {
      "cell_type": "code",
      "source": [
        "splitting(X_train)"
      ],
      "metadata": {
        "colab": {
          "base_uri": "https://localhost:8080/"
        },
        "id": "vVrsvoW77uQD",
        "outputId": "2ae620ac-edac-46bb-d0a8-cb7543c2c4d0"
      },
      "execution_count": 6,
      "outputs": [
        {
          "output_type": "stream",
          "name": "stdout",
          "text": [
            "The numerical features are: ['condition', 'odometer', 'auction_value'] \n",
            " and The categorical features are: ['make', 'transmission', 'state']\n"
          ]
        }
      ]
    },
    {
      "cell_type": "markdown",
      "metadata": {
        "id": "HdpdXHH936BE"
      },
      "source": [
        "## Question 2: Using the numerical variables, create a pipeline that replaces the missing values with the median and then standardizes the values using a standard scaler."
      ]
    },
    {
      "cell_type": "code",
      "source": [
        "from sklearn.pipeline import Pipeline\n",
        "from sklearn.compose import ColumnTransformer\n",
        "from sklearn.impute import SimpleImputer\n",
        "from sklearn.preprocessing import OneHotEncoder\n",
        "from sklearn.preprocessing import StandardScaler\n",
        "\n",
        "\n",
        "\n",
        "num_pipeline = Pipeline([('impute_missing', SimpleImputer(strategy='median')),\n",
        "                           ('standardize_num', StandardScaler())\n",
        "                        ])\n",
        "\n",
        "\n",
        "\n"
      ],
      "metadata": {
        "id": "v5dPd9Xm8-ga"
      },
      "execution_count": 7,
      "outputs": []
    },
    {
      "cell_type": "markdown",
      "metadata": {
        "id": "k-ThnSv936BE"
      },
      "source": [
        "## Question 3: Using the categorical variables, create a pipeline that replaces the missing values with the most frequent and then use one-hot encoding to convert the data to numerical arrays.\n",
        "- You should be dropping one category from each variable when using the one-hot encoder.  \n",
        "- To ensure the pipeline doesn't break when it receives new/unexpected categories, you should ignore new categories.\n",
        "- Use a fit transformer on the training dataset to validate all the columns are now numeric and to determine how many columns the transformed data contains."
      ]
    },
    {
      "cell_type": "code",
      "execution_count": 8,
      "metadata": {
        "id": "fEDUgAOF36BF"
      },
      "outputs": [],
      "source": [
        "\n",
        "cat_pipeline = Pipeline([('impute_missing_cats', SimpleImputer(strategy='most_frequent')),\n",
        "                          ('create_dummies_cats', OneHotEncoder(handle_unknown='ignore', drop='first'))])"
      ]
    },
    {
      "cell_type": "markdown",
      "metadata": {
        "id": "XcBhxF9p36BF"
      },
      "source": [
        "## Question 4: Combine the numerical and categorical pipelines into one data processing pipeline.\n",
        "- Use a fit transformers and the training dataset to verify the data has no missing values and the correct number of columns."
      ]
    },
    {
      "cell_type": "code",
      "source": [
        "processing_pipeline = ColumnTransformer(transformers=[('proc_numeric', num_pipeline,numerical_train ),\n",
        "                                                      ('create_dummies', cat_pipeline, categorical_train)])\n",
        "print(processing_pipeline)"
      ],
      "metadata": {
        "colab": {
          "base_uri": "https://localhost:8080/"
        },
        "id": "hl4LeVSIcCB5",
        "outputId": "05ee0fd2-4c80-4038-99d6-88017e1ed81c"
      },
      "execution_count": 9,
      "outputs": [
        {
          "output_type": "stream",
          "name": "stdout",
          "text": [
            "ColumnTransformer(transformers=[('proc_numeric',\n",
            "                                 Pipeline(steps=[('impute_missing',\n",
            "                                                  SimpleImputer(strategy='median')),\n",
            "                                                 ('standardize_num',\n",
            "                                                  StandardScaler())]),\n",
            "                                 ['condition', 'odometer', 'auction_value']),\n",
            "                                ('create_dummies',\n",
            "                                 Pipeline(steps=[('impute_missing_cats',\n",
            "                                                  SimpleImputer(strategy='most_frequent')),\n",
            "                                                 ('create_dummies_cats',\n",
            "                                                  OneHotEncoder(drop='first',\n",
            "                                                                handle_unknown='ignore'))]),\n",
            "                                 ['make', 'transmission', 'state'])])\n"
          ]
        }
      ]
    },
    {
      "cell_type": "code",
      "source": [
        "from scipy.sparse import csr_matrix"
      ],
      "metadata": {
        "id": "ujj6iuM20Y5x"
      },
      "execution_count": 10,
      "outputs": []
    },
    {
      "cell_type": "code",
      "source": [
        "processing_pipeline.fit(X)\n",
        "sparse_matrix = processing_pipeline.transform(X)[:, 2]\n",
        "df = pd.DataFrame.sparse.from_spmatrix(sparse_matrix)\n",
        "\n",
        "#Reference: https://pandas.pydata.org/docs/reference/api/pandas.DataFrame.sparse.from_spmatrix.html"
      ],
      "metadata": {
        "id": "O0PpMoV703Aq"
      },
      "execution_count": 11,
      "outputs": []
    },
    {
      "cell_type": "code",
      "source": [
        "total_null_count = df.isnull().sum().sum()\n",
        "print(\"Missing values:\",total_null_count)"
      ],
      "metadata": {
        "colab": {
          "base_uri": "https://localhost:8080/"
        },
        "id": "X7VT18Lu04U_",
        "outputId": "833391c0-5dd7-4775-c291-b976bad15c0a"
      },
      "execution_count": 12,
      "outputs": [
        {
          "output_type": "stream",
          "name": "stdout",
          "text": [
            "Missing values: 0\n"
          ]
        }
      ]
    },
    {
      "cell_type": "code",
      "source": [
        "X_train_cattransformed = processing_pipeline.fit_transform(X_train)\n",
        "\n",
        "\n",
        "print(f\"No of columns that contains transformed data is {X_train_cattransformed.shape[1]}\")\n",
        "\n",
        "print(f\"The datatype of the training dataset is {X_train_cattransformed.dtype}\")"
      ],
      "metadata": {
        "colab": {
          "base_uri": "https://localhost:8080/"
        },
        "id": "VMhR71kg4XRH",
        "outputId": "420428a1-c463-4a9f-ea30-dac6a96f8f3b"
      },
      "execution_count": 13,
      "outputs": [
        {
          "output_type": "stream",
          "name": "stdout",
          "text": [
            "No of columns that contains transformed data is 44\n",
            "The datatype of the training dataset is float64\n"
          ]
        }
      ]
    },
    {
      "cell_type": "markdown",
      "metadata": {
        "id": "qlWqAbJs36BF"
      },
      "source": [
        "## Question 5: Add a linear regression model to the pipeline.\n",
        "- Report what the $R^2$ is using the `test` data.  "
      ]
    },
    {
      "cell_type": "code",
      "source": [
        "from sklearn.linear_model import LinearRegression\n",
        "\n",
        "modeling_pipeline = Pipeline([('data_processing', processing_pipeline), \n",
        "                              ('lm', LinearRegression())\n",
        "                             ])\n",
        "modeling_pipeline.fit(X_train, y_train)"
      ],
      "metadata": {
        "colab": {
          "base_uri": "https://localhost:8080/"
        },
        "id": "RLdm-RiRcQR5",
        "outputId": "e8e51961-3de3-4e04-ee68-bca9eea5b0e9"
      },
      "execution_count": 14,
      "outputs": [
        {
          "output_type": "execute_result",
          "data": {
            "text/plain": [
              "Pipeline(steps=[('data_processing',\n",
              "                 ColumnTransformer(transformers=[('proc_numeric',\n",
              "                                                  Pipeline(steps=[('impute_missing',\n",
              "                                                                   SimpleImputer(strategy='median')),\n",
              "                                                                  ('standardize_num',\n",
              "                                                                   StandardScaler())]),\n",
              "                                                  ['condition', 'odometer',\n",
              "                                                   'auction_value']),\n",
              "                                                 ('create_dummies',\n",
              "                                                  Pipeline(steps=[('impute_missing_cats',\n",
              "                                                                   SimpleImputer(strategy='most_frequent')),\n",
              "                                                                  ('create_dummies_cats',\n",
              "                                                                   OneHotEncoder(drop='first',\n",
              "                                                                                 handle_unknown='ignore'))]),\n",
              "                                                  ['make', 'transmission',\n",
              "                                                   'state'])])),\n",
              "                ('lm', LinearRegression())])"
            ]
          },
          "metadata": {},
          "execution_count": 14
        }
      ]
    },
    {
      "cell_type": "code",
      "source": [
        "car_predictions = modeling_pipeline.predict(X_test)"
      ],
      "metadata": {
        "id": "DWmi51lE9s5u"
      },
      "execution_count": 15,
      "outputs": []
    },
    {
      "cell_type": "code",
      "source": [
        "from sklearn.metrics import r2_score\n",
        "r2 = r2_score(y_test, car_predictions)\n",
        "r2"
      ],
      "metadata": {
        "colab": {
          "base_uri": "https://localhost:8080/"
        },
        "id": "4luJs5m3-Qsc",
        "outputId": "41d43a81-6dfd-406d-988f-ef47ee6ebdb1"
      },
      "execution_count": 16,
      "outputs": [
        {
          "output_type": "execute_result",
          "data": {
            "text/plain": [
              "0.8838274420792979"
            ]
          },
          "metadata": {},
          "execution_count": 16
        }
      ]
    },
    {
      "cell_type": "markdown",
      "metadata": {
        "id": "Qo4zK_-Y36BF"
      },
      "source": [
        "## Question 6: Create a plot(s) of the residuals. Do you have any concerns about patterns in the residuals that the model is neglecting to pick-up?\n",
        "- Include a sentence or two on what you observe."
      ]
    },
    {
      "cell_type": "code",
      "source": [
        "import matplotlib.pyplot as plt\n",
        "plt.plot(car_predictions, car_predictions - y_test, 'ro')\n",
        "plt.ylabel('Residual')\n",
        "plt.xlabel('Predicted')\n",
        "plt.show()"
      ],
      "metadata": {
        "colab": {
          "base_uri": "https://localhost:8080/",
          "height": 279
        },
        "id": "fvO3Gbrb-gQ8",
        "outputId": "7038388a-3657-40fa-d06e-a447c99540bc"
      },
      "execution_count": 17,
      "outputs": [
        {
          "output_type": "display_data",
          "data": {
            "text/plain": [
              "<Figure size 432x288 with 1 Axes>"
            ],
            "image/png": "[encoded data removed]"
          },
          "metadata": {
            "needs_background": "light"
          }
        }
      ]
    },
    {
      "cell_type": "markdown",
      "metadata": {
        "id": "4GeT-SjP36BG"
      },
      "source": [
        "From the above graph we can easily tell that our model can't learn some of our records. The records are may be the outliers or else we don't have much information about that records."
      ]
    },
    {
      "cell_type": "markdown",
      "metadata": {
        "id": "2G7vg70M36BG"
      },
      "source": [
        "## Question 7: Modify the pipeline to use a ridge regression model with an alpha value of 100. How does this change the $R^2$?"
      ]
    },
    {
      "cell_type": "code",
      "execution_count": 18,
      "metadata": {
        "id": "RJ2WXDVo36BG",
        "colab": {
          "base_uri": "https://localhost:8080/"
        },
        "outputId": "631dbd80-6a7e-43ec-8790-45c7725afe0e"
      },
      "outputs": [
        {
          "output_type": "execute_result",
          "data": {
            "text/plain": [
              "Pipeline(steps=[('data_processing',\n",
              "                 ColumnTransformer(transformers=[('proc_numeric',\n",
              "                                                  Pipeline(steps=[('impute_missing',\n",
              "                                                                   SimpleImputer(strategy='median')),\n",
              "                                                                  ('standardize_num',\n",
              "                                                                   StandardScaler())]),\n",
              "                                                  ['condition', 'odometer',\n",
              "                                                   'auction_value']),\n",
              "                                                 ('create_dummies',\n",
              "                                                  Pipeline(steps=[('impute_missing_cats',\n",
              "                                                                   SimpleImputer(strategy='most_frequent')),\n",
              "                                                                  ('create_dummies_cats',\n",
              "                                                                   OneHotEncoder(drop='first',\n",
              "                                                                                 handle_unknown='ignore'))]),\n",
              "                                                  ['make', 'transmission',\n",
              "                                                   'state'])])),\n",
              "                ('lm', Ridge(alpha=100))])"
            ]
          },
          "metadata": {},
          "execution_count": 18
        }
      ],
      "source": [
        "from sklearn.linear_model import Ridge\n",
        "\n",
        "modeling_pipeline = Pipeline([('data_processing', processing_pipeline), \n",
        "                          ('lm', Ridge(alpha=100))\n",
        "                             ])\n",
        "modeling_pipeline.fit(X_train, y_train)"
      ]
    },
    {
      "cell_type": "code",
      "source": [
        "car_pred = modeling_pipeline.predict(X_test)"
      ],
      "metadata": {
        "id": "ZeGIGH9AdW5O"
      },
      "execution_count": 19,
      "outputs": []
    },
    {
      "cell_type": "code",
      "source": [
        "from sklearn.metrics import r2_score\n",
        "r2 = r2_score(y_test, car_pred)\n",
        "r2"
      ],
      "metadata": {
        "colab": {
          "base_uri": "https://localhost:8080/"
        },
        "id": "6c_W3zMVdeZo",
        "outputId": "0b3ecd45-5414-420d-bce1-fbc4b085c250"
      },
      "execution_count": 20,
      "outputs": [
        {
          "output_type": "execute_result",
          "data": {
            "text/plain": [
              "0.8824295262289474"
            ]
          },
          "metadata": {},
          "execution_count": 20
        }
      ]
    },
    {
      "cell_type": "markdown",
      "source": [
        "Regularization has no impact because the model is linear, and the alpha value is too high for the optimization process to discover global minima."
      ],
      "metadata": {
        "id": "wfG5j5oFiji4"
      }
    }
  ],
  "metadata": {
    "kernelspec": {
      "display_name": "Python 3",
      "language": "python",
      "name": "python3"
    },
    "language_info": {
      "codemirror_mode": {
        "name": "ipython",
        "version": 3
      },
      "file_extension": ".py",
      "mimetype": "text/x-python",
      "name": "python",
      "nbconvert_exporter": "python",
      "pygments_lexer": "ipython3",
      "version": "3.8.8"
    },
    "toc": {
      "base_numbering": 1,
      "nav_menu": {},
      "number_sections": true,
      "sideBar": true,
      "skip_h1_title": false,
      "title_cell": "Table of Contents",
      "title_sidebar": "Contents",
      "toc_cell": false,
      "toc_position": {},
      "toc_section_display": true,
      "toc_window_display": false
    },
    "colab": {
      "provenance": []
    }
  },
  "nbformat": 4,
  "nbformat_minor": 0
}